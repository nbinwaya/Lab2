{
 "cells": [
  {
   "cell_type": "code",
   "execution_count": 1,
   "metadata": {},
   "outputs": [
    {
     "name": "stdout",
     "output_type": "stream",
     "text": [
      "os:            Windows-10-10.0.19041-SP0\n",
      "python         3.7.6 (default, Jan  8 2020, 20:23:39) [MSC v.1916 64 bit (AMD64)]\n",
      "openssl:       OpenSSL 1.1.1d  10 Sep 2019\n",
      "TLSv1.2:       _SSLMethod.PROTOCOL_TLSv1_2\n",
      "\n"
     ]
    }
   ],
   "source": [
    "import platform\n",
    "import sys\n",
    "import ssl\n",
    "\n",
    "print(\"os:            \" + platform.platform())\n",
    "print(\"python         \" + sys.version)\n",
    "print(\"openssl:       \" + ssl.OPENSSL_VERSION)\n",
    "print(\"TLSv1.2:       \" + str(ssl.PROTOCOL_TLSv1_2))\n",
    "print()"
   ]
  },
  {
   "cell_type": "code",
   "execution_count": 2,
   "metadata": {},
   "outputs": [
    {
     "name": "stdout",
     "output_type": "stream",
     "text": [
      "<mysql.connector.connection.MySQLConnection object at 0x0000026F1D9FE9C8>\n",
      "\n"
     ]
    }
   ],
   "source": [
    "# conda install -c anaconda mysql-connector-python\n",
    "\n",
    "import mysql.connector as mysql\n",
    "\n",
    "cnx = mysql.connect(\n",
    "    host=\"mysqllahmansbaseball.mysql.database.azure.com\", # this server will not remain available in the long term\n",
    "    user=\"newuser@mysqllahmansbaseball\",                  # this user name will not remain available in the long term\n",
    "    password=\"Pa$$w0rd\",                                  # this password will not remain available in the long term\n",
    "    port=3306,\n",
    "    ssl_disabled=True,                                    # not usually suitable for production code\n",
    "    database=\"lahmansbaseballdb\")\n",
    "print(cnx)\n",
    "print()\n"
   ]
  },
  {
   "cell_type": "code",
   "execution_count": 3,
   "metadata": {},
   "outputs": [],
   "source": [
    "#You can query database directly using pandas.read_sql()"
   ]
  },
  {
   "cell_type": "code",
   "execution_count": 4,
   "metadata": {},
   "outputs": [
    {
     "name": "stdout",
     "output_type": "stream",
     "text": [
      "  nameFirst nameLast\n",
      "0     David  Aardsma\n",
      "1      Hank    Aaron\n",
      "2    Tommie    Aaron\n",
      "\n",
      "<class 'pandas.core.frame.DataFrame'>\n",
      "RangeIndex: 19878 entries, 0 to 19877\n",
      "Data columns (total 2 columns):\n",
      " #   Column     Non-Null Count  Dtype \n",
      "---  ------     --------------  ----- \n",
      " 0   nameFirst  19841 non-null  object\n",
      " 1   nameLast   19878 non-null  object\n",
      "dtypes: object(2)\n",
      "memory usage: 310.7+ KB\n",
      "None\n"
     ]
    }
   ],
   "source": [
    "import pandas as pd\n",
    "\n",
    "data = pd.read_sql(\"\"\"\n",
    "SELECT p.nameFirst, p.nameLast FROM People p\n",
    "ORDER BY p.nameLast, p.nameFirst\n",
    "\"\"\", cnx)\n",
    "\n",
    "print(data.head(3))\n",
    "print()\n",
    "print(data.info())"
   ]
  },
  {
   "cell_type": "code",
   "execution_count": 5,
   "metadata": {},
   "outputs": [],
   "source": [
    "#You can execute any SQL statement using cursor.execute()"
   ]
  },
  {
   "cell_type": "code",
   "execution_count": 6,
   "metadata": {},
   "outputs": [
    {
     "name": "stdout",
     "output_type": "stream",
     "text": [
      "(1, 'abercda01', 1871, 1, 'TRO', 8, 'NA', 1, None, 4, 0, 0, 0, 0, 0, 0, 0, 0, 0, 0, None, None, None, None, 0)\n",
      "(2, 'addybo01', 1871, 1, 'RC1', 7, 'NA', 25, None, 118, 30, 32, 6, 0, 0, 13, 8, 1, 4, 0, None, None, None, None, 0)\n",
      "(3, 'allisar01', 1871, 1, 'CL1', 3, 'NA', 29, None, 137, 28, 40, 4, 5, 0, 19, 3, 1, 2, 5, None, None, None, None, 1)\n",
      "(4, 'allisdo01', 1871, 1, 'WS3', 9, 'NA', 27, None, 133, 28, 44, 10, 2, 2, 27, 1, 1, 0, 2, None, None, None, None, 0)\n",
      "(5, 'ansonca01', 1871, 1, 'RC1', 7, 'NA', 25, None, 120, 29, 39, 11, 3, 0, 16, 6, 2, 2, 1, None, None, None, None, 0)\n",
      "(6, 'armstbo01', 1871, 1, 'FW1', 4, 'NA', 12, None, 49, 9, 11, 2, 1, 0, 5, 0, 1, 0, 1, None, None, None, None, 0)\n",
      "(7, 'barkeal01', 1871, 1, 'RC1', 7, 'NA', 1, None, 4, 0, 1, 0, 0, 0, 2, 0, 0, 1, 0, None, None, None, None, 0)\n",
      "(8, 'barnero01', 1871, 1, 'BS1', 1, 'NA', 31, None, 157, 66, 63, 10, 9, 0, 34, 11, 6, 13, 1, None, None, None, None, 1)\n",
      "(9, 'barrebi01', 1871, 1, 'FW1', 4, 'NA', 1, None, 5, 1, 1, 1, 0, 0, 1, 0, 0, 0, 0, None, None, None, None, 0)\n",
      "(10, 'barrofr01', 1871, 1, 'BS1', 1, 'NA', 18, None, 86, 13, 13, 2, 1, 0, 11, 1, 0, 0, 0, None, None, None, None, 0)\n",
      "\n"
     ]
    }
   ],
   "source": [
    "cursor = cnx.cursor()\n",
    "sql = \"SELECT * FROM Batting LIMIT 10\"\n",
    "cursor.execute(sql)\n",
    "results = cursor.fetchall()\n",
    "for x in results:\n",
    "    print(x)\n",
    "print()\n"
   ]
  },
  {
   "cell_type": "code",
   "execution_count": 7,
   "metadata": {},
   "outputs": [
    {
     "name": "stdout",
     "output_type": "stream",
     "text": [
      "('Mike', 'Schmidt', 195, 48, 91, 'Philadelphia Phillies', 1980)\n",
      "('Reggie', 'Jackson', 195, 41, 103, 'New York Yankees', 1980)\n",
      "('Ben', 'Oglivie', 160, 41, 86, 'Milwaukee Brewers', 1980)\n",
      "('Gorman', 'Thomas', 210, 38, 86, 'Milwaukee Brewers', 1980)\n",
      "('Tony', 'Armas', 182, 35, 83, 'Oakland Athletics', 1980)\n",
      "('Bob', 'Horner', 195, 35, 81, 'Atlanta Braves', 1980)\n",
      "('Dale', 'Murphy', 210, 33, 81, 'Atlanta Braves', 1980)\n",
      "('Eddie', 'Murray', 190, 32, 100, 'Baltimore Orioles', 1980)\n",
      "('John', 'Mayberry', 215, 30, 67, 'Toronto Blue Jays', 1980)\n",
      "('Dusty', 'Baker', 183, 29, 92, 'Los Angeles Dodgers', 1980)\n",
      "\n"
     ]
    }
   ],
   "source": [
    "sql = \"\"\"\n",
    "SELECT p.nameFirst, p.nameLast, p.Weight, b.HR, t.W, t.name AS team, b.yearID\n",
    "FROM batting b\n",
    "    JOIN people p ON p.playerID = b.playerID\n",
    "    JOIN teams t ON t.ID = b.team_ID\n",
    "WHERE b.YearID = 1980\n",
    "ORDER BY b.HR DESC\n",
    "LIMIT 10;\n",
    "\"\"\"\n",
    "\n",
    "cursor.execute(sql)\n",
    "results = cursor.fetchall()\n",
    "for x in results:\n",
    "    print(x)\n",
    "print() "
   ]
  },
  {
   "cell_type": "code",
   "execution_count": 8,
   "metadata": {},
   "outputs": [
    {
     "name": "stdout",
     "output_type": "stream",
     "text": [
      "        0         1    2   3    4                      5     6\n",
      "0    Mike   Schmidt  195  48   91  Philadelphia Phillies  1980\n",
      "1  Reggie   Jackson  195  41  103       New York Yankees  1980\n",
      "2     Ben   Oglivie  160  41   86      Milwaukee Brewers  1980\n",
      "3  Gorman    Thomas  210  38   86      Milwaukee Brewers  1980\n",
      "4    Tony     Armas  182  35   83      Oakland Athletics  1980\n",
      "5     Bob    Horner  195  35   81         Atlanta Braves  1980\n",
      "6    Dale    Murphy  210  33   81         Atlanta Braves  1980\n",
      "7   Eddie    Murray  190  32  100      Baltimore Orioles  1980\n",
      "8    John  Mayberry  215  30   67      Toronto Blue Jays  1980\n",
      "9   Dusty     Baker  183  29   92    Los Angeles Dodgers  1980\n"
     ]
    }
   ],
   "source": [
    "import pandas as pd\n",
    "\n",
    "df = pd.DataFrame(results)\n",
    "print(df)"
   ]
  },
  {
   "cell_type": "code",
   "execution_count": 9,
   "metadata": {},
   "outputs": [
    {
     "name": "stdout",
     "output_type": "stream",
     "text": [
      "<class 'list'>\n",
      "<class 'tuple'>\n",
      "<class 'str'>\n",
      "nameFirst\n",
      "[('nameFirst', 253, None, None, None, None, 1, 0), ('nameLast', 253, None, None, None, None, 1, 0), ('Weight', 3, None, None, None, None, 1, 0), ('HR', 2, None, None, None, None, 1, 0), ('W', 2, None, None, None, None, 1, 0), ('team', 253, None, None, None, None, 1, 0), ('yearID', 2, None, None, None, None, 0, 20481)]\n"
     ]
    }
   ],
   "source": [
    "# cursor.description is a list of tuples where each tuple describes a column\n",
    "# first element of each tuple is a string containing the name of the corresponding column\n",
    "print(type(cursor.description))       # list\n",
    "print(type(cursor.description[0]))    # tuple\n",
    "print(type(cursor.description[0][0])) # string\n",
    "print(cursor.description[0][0])       # \"nameFirst\" is the name of the first column\n",
    "print(cursor.description)             # the whole thing"
   ]
  },
  {
   "cell_type": "code",
   "execution_count": 10,
   "metadata": {},
   "outputs": [
    {
     "name": "stdout",
     "output_type": "stream",
     "text": [
      "Column 1:\n",
      "  column_name = nameFirst\n",
      "  type = 253 (VAR_STRING)\n",
      "  null_ok = 1\n",
      "  column_flags = 0\n",
      "Column 2:\n",
      "  column_name = nameLast\n",
      "  type = 253 (VAR_STRING)\n",
      "  null_ok = 1\n",
      "  column_flags = 0\n",
      "Column 3:\n",
      "  column_name = Weight\n",
      "  type = 3 (LONG)\n",
      "  null_ok = 1\n",
      "  column_flags = 0\n",
      "Column 4:\n",
      "  column_name = HR\n",
      "  type = 2 (SHORT)\n",
      "  null_ok = 1\n",
      "  column_flags = 0\n",
      "Column 5:\n",
      "  column_name = W\n",
      "  type = 2 (SHORT)\n",
      "  null_ok = 1\n",
      "  column_flags = 0\n",
      "Column 6:\n",
      "  column_name = team\n",
      "  type = 253 (VAR_STRING)\n",
      "  null_ok = 1\n",
      "  column_flags = 0\n",
      "Column 7:\n",
      "  column_name = yearID\n",
      "  type = 2 (SHORT)\n",
      "  null_ok = 0\n",
      "  column_flags = 20481\n"
     ]
    }
   ],
   "source": [
    "\n",
    "from mysql.connector import FieldType\n",
    "\n",
    "for i in range(len(cursor.description)):\n",
    "  print(\"Column {}:\".format(i+1))\n",
    "  desc = cursor.description[i]\n",
    "  print(\"  column_name = {}\".format(desc[0]))\n",
    "  print(\"  type = {} ({})\".format(desc[1], FieldType.get_info(desc[1])))\n",
    "  print(\"  null_ok = {}\".format(desc[6]))\n",
    "  print(\"  column_flags = {}\".format(desc[7]))"
   ]
  },
  {
   "cell_type": "code",
   "execution_count": 11,
   "metadata": {},
   "outputs": [
    {
     "data": {
      "text/plain": [
       "list"
      ]
     },
     "execution_count": 11,
     "metadata": {},
     "output_type": "execute_result"
    }
   ],
   "source": [
    "type(cursor.description)"
   ]
  },
  {
   "cell_type": "code",
   "execution_count": 12,
   "metadata": {},
   "outputs": [
    {
     "name": "stdout",
     "output_type": "stream",
     "text": [
      "['nameFirst', 'nameLast', 'Weight', 'HR', 'W', 'team', 'yearID']\n"
     ]
    }
   ],
   "source": [
    "headers = [i[0] for i in cursor.description]\n",
    "print(headers)"
   ]
  },
  {
   "cell_type": "code",
   "execution_count": 13,
   "metadata": {},
   "outputs": [
    {
     "name": "stdout",
     "output_type": "stream",
     "text": [
      "<class 'list'>\n",
      "<class 'str'>\n",
      "['Schmidt, Mike', 'Jackson, Reggie', 'Oglivie, Ben', 'Thomas, Gorman', 'Armas, Tony', 'Horner, Bob', 'Murphy, Dale', 'Murray, Eddie', 'Mayberry, John', 'Baker, Dusty']\n"
     ]
    }
   ],
   "source": [
    "player = list(df[1] + \", \" + df[0]) # player sssigned to list of strings each containing nameLast followed by nameFirst\n",
    "print(type(player))\n",
    "print(type(player[0]))\n",
    "print(player)"
   ]
  },
  {
   "cell_type": "code",
   "execution_count": 14,
   "metadata": {},
   "outputs": [
    {
     "name": "stdout",
     "output_type": "stream",
     "text": [
      "                nameFirst  nameLast  Weight  HR    W                   team  \\\n",
      "Schmidt, Mike        Mike   Schmidt     195  48   91  Philadelphia Phillies   \n",
      "Jackson, Reggie    Reggie   Jackson     195  41  103       New York Yankees   \n",
      "Oglivie, Ben          Ben   Oglivie     160  41   86      Milwaukee Brewers   \n",
      "Thomas, Gorman     Gorman    Thomas     210  38   86      Milwaukee Brewers   \n",
      "Armas, Tony          Tony     Armas     182  35   83      Oakland Athletics   \n",
      "Horner, Bob           Bob    Horner     195  35   81         Atlanta Braves   \n",
      "Murphy, Dale         Dale    Murphy     210  33   81         Atlanta Braves   \n",
      "Murray, Eddie       Eddie    Murray     190  32  100      Baltimore Orioles   \n",
      "Mayberry, John       John  Mayberry     215  30   67      Toronto Blue Jays   \n",
      "Baker, Dusty        Dusty     Baker     183  29   92    Los Angeles Dodgers   \n",
      "\n",
      "                 yearID  \n",
      "Schmidt, Mike      1980  \n",
      "Jackson, Reggie    1980  \n",
      "Oglivie, Ben       1980  \n",
      "Thomas, Gorman     1980  \n",
      "Armas, Tony        1980  \n",
      "Horner, Bob        1980  \n",
      "Murphy, Dale       1980  \n",
      "Murray, Eddie      1980  \n",
      "Mayberry, John     1980  \n",
      "Baker, Dusty       1980  \n"
     ]
    }
   ],
   "source": [
    "#df = pd.DataFrame(results, columns = ['nameFirst', 'nameLast','Weight', 'HR', 'W' 'team', 'yearID'])\n",
    "df = pd.DataFrame(results, columns = headers, index=player) #Note: headers = ['nameFirst', 'nameLast', 'HR', 'team', 'yearID']\n",
    "print(df)\n",
    "\n",
    "#df = pd.DataFrame(results, columns =[headers[0], headers[1], headers[2], headers[3], headers[4]], index=player)\n",
    "#print(df)"
   ]
  },
  {
   "cell_type": "code",
   "execution_count": 15,
   "metadata": {},
   "outputs": [
    {
     "data": {
      "text/plain": [
       "Text(0.5, 1.0, 'Home Runs')"
      ]
     },
     "execution_count": 15,
     "metadata": {},
     "output_type": "execute_result"
    },
    {
     "data": {
      "image/png": "[encoded data removed]",
      "text/plain": [
       "<Figure size 360x360 with 1 Axes>"
      ]
     },
     "metadata": {},
     "output_type": "display_data"
    }
   ],
   "source": [
    "%matplotlib inline\n",
    "\n",
    "df.plot(\n",
    "    y=\"HR\", kind='pie', legend=False, label=\"\", figsize=(5, 5)\n",
    "    ).set_title('Home Runs', fontdict={'fontsize': 32, 'fontweight': 'medium'})"
   ]
  },
  {
   "cell_type": "code",
   "execution_count": 16,
   "metadata": {},
   "outputs": [],
   "source": [
    "#Create Series of datetime from three numpy.int64 values for year, month, day"
   ]
  },
  {
   "cell_type": "code",
   "execution_count": 17,
   "metadata": {},
   "outputs": [
    {
     "name": "stdout",
     "output_type": "stream",
     "text": [
      "       0         1   2    3  4  5     6   7   8          9   ...   25  26  27  \\\n",
      "0    Jose     Abreu  75  255  R  R  1987   1  29       Cuba  ...  123   2   2   \n",
      "1  Ronald     Acuna  72  180  R  R  1997  12  18  Venezuela  ...  101  37   9   \n",
      "2   Willy    Adames  72  205  R  R  1995   9   2       D.R.  ...   52   4   2   \n",
      "3    Matt     Adams  75  245  R  L  1988   8  31        USA  ...   56   0   0   \n",
      "4   Ehire  Adrianza  73  195  R  B  1989   8  21  Venezuela  ...   22   0   2   \n",
      "\n",
      "   28   29  30  31  32  33  34  \n",
      "0  36  152   4  13   0  10  24  \n",
      "1  76  188   4   9   0   1   8  \n",
      "2  46  153   1   3   3   1   9  \n",
      "3  20  115   1   2   0   1   7  \n",
      "4  20   40   1   6   2   4   2  \n",
      "\n",
      "[5 rows x 35 columns]\n"
     ]
    }
   ],
   "source": [
    "#cursor = cnx.cursor()\n",
    "sql = \"\"\"\n",
    "SELECT p.nameFirst, p.nameLast, p.Height, p.Weight, p.throws, p.bats,\n",
    "p.birthYear, p.birthMonth, p.birthDay,p.birthCountry, b.*\n",
    "FROM People p\n",
    "JOIN Batting b ON b.playerID = p.playerID\n",
    "WHERE yearID between 2014 and 2019 AND b.g >= \"50\"\n",
    "ORDER BY b.yearID Desc\n",
    "LIMIT 25;\n",
    "\"\"\"\n",
    "cursor.execute(sql)\n",
    "results = cursor.fetchall()\n",
    "df_baseball = pd.DataFrame(results)\n",
    "print(df_baseball.head())"
   ]
  },
  {
   "cell_type": "code",
   "execution_count": 18,
   "metadata": {},
   "outputs": [
    {
     "name": "stdout",
     "output_type": "stream",
     "text": [
      "<class 'list'>\n",
      "<class 'tuple'>\n",
      "35\n",
      "[('nameFirst', 253, None, None, None, None, 1, 0), ('nameLast', 253, None, None, None, None, 1, 0), ('Height', 3, None, None, None, None, 1, 0), ('Weight', 3, None, None, None, None, 1, 0), ('throws', 253, None, None, None, None, 1, 0), ('bats', 253, None, None, None, None, 1, 0), ('birthYear', 3, None, None, None, None, 1, 0), ('birthMonth', 3, None, None, None, None, 1, 0), ('birthDay', 3, None, None, None, None, 1, 0), ('birthCountry', 253, None, None, None, None, 1, 0), ('ID', 3, None, None, None, None, 0, 16899), ('playerID', 253, None, None, None, None, 0, 20489), ('yearID', 2, None, None, None, None, 0, 20481), ('stint', 2, None, None, None, None, 0, 20481), ('teamID', 254, None, None, None, None, 1, 0), ('team_ID', 3, None, None, None, None, 1, 16392), ('lgID', 254, None, None, None, None, 1, 16392), ('G', 2, None, None, None, None, 1, 0), ('G_batting', 2, None, None, None, None, 1, 0), ('AB', 2, None, None, None, None, 1, 0), ('R', 2, None, None, None, None, 1, 0), ('H', 2, None, None, None, None, 1, 0), ('2B', 2, None, None, None, None, 1, 0), ('3B', 2, None, None, None, None, 1, 0), ('HR', 2, None, None, None, None, 1, 0), ('RBI', 2, None, None, None, None, 1, 0), ('SB', 2, None, None, None, None, 1, 0), ('CS', 2, None, None, None, None, 1, 0), ('BB', 2, None, None, None, None, 1, 0), ('SO', 2, None, None, None, None, 1, 0), ('IBB', 2, None, None, None, None, 1, 0), ('HBP', 2, None, None, None, None, 1, 0), ('SH', 2, None, None, None, None, 1, 0), ('SF', 2, None, None, None, None, 1, 0), ('GIDP', 2, None, None, None, None, 1, 0)]\n"
     ]
    }
   ],
   "source": [
    "print(type(cursor.description))\n",
    "print(type(cursor.description[0]))\n",
    "print(len(cursor.description))\n",
    "print(cursor.description)"
   ]
  },
  {
   "cell_type": "code",
   "execution_count": 19,
   "metadata": {},
   "outputs": [
    {
     "name": "stdout",
     "output_type": "stream",
     "text": [
      "['nameFirst', 'nameLast', 'Height', 'Weight', 'throws', 'bats', 'birthYear', 'birthMonth', 'birthDay', 'birthCountry', 'ID', 'playerID', 'yearID', 'stint', 'teamID', 'team_ID', 'lgID', 'G', 'G_batting', 'AB', 'R', 'H', '2B', '3B', 'HR', 'RBI', 'SB', 'CS', 'BB', 'SO', 'IBB', 'HBP', 'SH', 'SF', 'GIDP']\n",
      "<class 'list'>\n"
     ]
    }
   ],
   "source": [
    "headers = [i[0] for i in cursor.description]\n",
    "print(headers)\n",
    "print(type(headers))"
   ]
  },
  {
   "cell_type": "code",
   "execution_count": 20,
   "metadata": {},
   "outputs": [
    {
     "name": "stdout",
     "output_type": "stream",
     "text": [
      "                nameFirst  nameLast  Height  Weight throws bats  birthYear  \\\n",
      "Jose, Abreu          Jose     Abreu      75     255      R    R       1987   \n",
      "Ronald, Acuna      Ronald     Acuna      72     180      R    R       1997   \n",
      "Willy, Adames       Willy    Adames      72     205      R    R       1995   \n",
      "Matt, Adams          Matt     Adams      75     245      R    L       1988   \n",
      "Ehire, Adrianza     Ehire  Adrianza      73     195      R    B       1989   \n",
      "\n",
      "                 birthMonth  birthDay birthCountry  ...  RBI  SB  CS  BB   SO  \\\n",
      "Jose, Abreu               1        29         Cuba  ...  123   2   2  36  152   \n",
      "Ronald, Acuna            12        18    Venezuela  ...  101  37   9  76  188   \n",
      "Willy, Adames             9         2         D.R.  ...   52   4   2  46  153   \n",
      "Matt, Adams               8        31          USA  ...   56   0   0  20  115   \n",
      "Ehire, Adrianza           8        21    Venezuela  ...   22   0   2  20   40   \n",
      "\n",
      "                 IBB HBP  SH  SF  GIDP  \n",
      "Jose, Abreu        4  13   0  10    24  \n",
      "Ronald, Acuna      4   9   0   1     8  \n",
      "Willy, Adames      1   3   3   1     9  \n",
      "Matt, Adams        1   2   0   1     7  \n",
      "Ehire, Adrianza    1   6   2   4     2  \n",
      "\n",
      "[5 rows x 35 columns]\n"
     ]
    }
   ],
   "source": [
    "playerName = list(df_baseball[0] + \", \" + df_baseball[1])\n",
    "df_baseball = pd.DataFrame(results, columns = headers, index=playerName)\n",
    "\n",
    "'''\n",
    "    [headers[0],headers[1],headers[2],headers[3],headers[4],headers[5],headers[6],\n",
    "    headers[7],headers[8],headers[9],headers[10],headers[11],headers[12],\n",
    "    headers[13],headers[14],headers[15],headers[16],headers[17],headers[18],\n",
    "    headers[19],headers[20],headers[21],headers[22],headers[23],headers[24],\n",
    "    headers[25],headers[26],headers[27],headers[28],headers[29],headers[30],\n",
    "    headers[31],headers[32],headers[33],headers[34]], index=playerName)\n",
    "    \n",
    "'''\n",
    "\n",
    "print(df_baseball.head())"
   ]
  },
  {
   "cell_type": "code",
   "execution_count": 21,
   "metadata": {},
   "outputs": [
    {
     "name": "stdout",
     "output_type": "stream",
     "text": [
      "<class 'pandas.core.series.Series'>\n",
      "<class 'pandas.core.series.Series'>\n",
      "<class 'pandas.core.series.Series'>\n",
      "<class 'numpy.int64'>\n",
      "<class 'numpy.int64'>\n",
      "<class 'numpy.int64'>\n"
     ]
    }
   ],
   "source": [
    "print(type(df_baseball['birthYear']))\n",
    "print(type(df_baseball['birthMonth']))\n",
    "print(type(df_baseball['birthDay']))\n",
    "print(type(df_baseball['birthYear'][0]))\n",
    "print(type(df_baseball['birthMonth'][1]))\n",
    "print(type(df_baseball['birthDay'][2]))"
   ]
  },
  {
   "cell_type": "code",
   "execution_count": 22,
   "metadata": {},
   "outputs": [
    {
     "name": "stdout",
     "output_type": "stream",
     "text": [
      "<class 'pandas.core.series.Series'>\n",
      "<class 'numpy.int64'>\n",
      "<class 'pandas.core.series.Series'>\n",
      "(25,)\n",
      "<class 'pandas._libs.tslibs.timestamps.Timestamp'>\n",
      "Jose, Abreu         1987-01-29\n",
      "Ronald, Acuna       1997-12-18\n",
      "Willy, Adames       1995-09-02\n",
      "Matt, Adams         1988-08-31\n",
      "Ehire, Adrianza     1989-08-21\n",
      "Jesus, Aguilar      1990-06-30\n",
      "Nick, Ahmed         1990-03-15\n",
      "Hanser, Alberto     1992-10-17\n",
      "Matt, Albers        1983-01-20\n",
      "Ozzie, Albies       1997-01-07\n",
      "Jorge, Alfaro       1993-06-11\n",
      "Greg, Allen         1993-03-15\n",
      "Albert, Almora      1994-04-16\n",
      "Pete, Alonso        1994-12-07\n",
      "Yonder, Alonso      1987-04-08\n",
      "Yonder, Alonso      1987-04-08\n",
      "Jose, Altuve        1990-05-06\n",
      "Jose, Alvarez       1989-05-06\n",
      "Yordan, Alvarez     1997-06-27\n",
      "Brian, Anderson     1993-05-19\n",
      "Justin, Anderson    1992-09-28\n",
      "Tim, Anderson       1993-06-23\n",
      "Matt, Andriese      1989-08-28\n",
      "Elvis, Andrus       1988-08-26\n",
      "Aristides, Aquino   1994-04-22\n",
      "dtype: datetime64[ns]\n"
     ]
    }
   ],
   "source": [
    "# create Series containing single datetime column using three original numpy.int64 columns (note above: index=playerName)\n",
    "# See: https://stackoverflow.com/questions/19350806/how-to-convert-columns-into-one-datetime-column-in-pandas\n",
    "print(type(df_baseball.birthYear))    # Series\n",
    "print(type(df_baseball.birthYear[0])) # numpy.int64\n",
    "birthDays = pd.to_datetime(dict(year=df_baseball.birthYear, month=df_baseball.birthMonth, day=df_baseball.birthDay))\n",
    "print(type(birthDays))                # Series\n",
    "print(birthDays.shape)                # (25,)\n",
    "print(type(birthDays[0]))             # Timestamp\n",
    "print(birthDays)                      # dump contents of birthDays Series\n"
   ]
  },
  {
   "cell_type": "code",
   "execution_count": 23,
   "metadata": {},
   "outputs": [],
   "source": [
    "#Draw Sactter Plot to show how home runs have increased over time"
   ]
  },
  {
   "cell_type": "code",
   "execution_count": 24,
   "metadata": {},
   "outputs": [
    {
     "name": "stdout",
     "output_type": "stream",
     "text": [
      "(1871, 0)\n",
      "(2019, 9)\n"
     ]
    }
   ],
   "source": [
    "sql = \"SELECT yearID, HR FROM batting\"\n",
    "cursor.execute(sql)\n",
    "results = cursor.fetchall()\n",
    "print(results[0])\n",
    "print(results[-1])"
   ]
  },
  {
   "cell_type": "code",
   "execution_count": 25,
   "metadata": {},
   "outputs": [
    {
     "name": "stdout",
     "output_type": "stream",
     "text": [
      "   year  hr\n",
      "0  1871   0\n",
      "1  1871   0\n",
      "2  1871   0\n",
      "3  1871   2\n",
      "4  1871   0\n",
      "        year  hr\n",
      "107424  2019   0\n",
      "107425  2019   0\n",
      "107426  2019   6\n",
      "107427  2019   1\n",
      "107428  2019   9\n"
     ]
    },
    {
     "data": {
      "text/plain": [
       "<matplotlib.axes._subplots.AxesSubplot at 0x26f2179df88>"
      ]
     },
     "execution_count": 25,
     "metadata": {},
     "output_type": "execute_result"
    },
    {
     "data": {
      "image/png": "[encoded data removed]",
      "text/plain": [
       "<Figure size 432x288 with 1 Axes>"
      ]
     },
     "metadata": {
      "needs_background": "light"
     },
     "output_type": "display_data"
    }
   ],
   "source": [
    "df = pd.DataFrame(results, columns=['year', 'hr'])\n",
    "print(df.head())\n",
    "print(df.tail())\n",
    "df.plot.scatter(x='year', y='hr')"
   ]
  },
  {
   "cell_type": "code",
   "execution_count": 26,
   "metadata": {},
   "outputs": [],
   "source": [
    "#Create DataFrame with calculated lifeSpan column (deathDay-birthDay)"
   ]
  },
  {
   "cell_type": "code",
   "execution_count": 27,
   "metadata": {},
   "outputs": [],
   "source": [
    "sql = \"\"\"\n",
    "SELECT p.nameFirst,p.nameLast,p.birthYear,p.birthMonth,p.birthDay,p.birthCountry,p.deathYear,\n",
    "p.deathMonth,p.deathDay,p.weight,p.height,p.bats,p.throws,p.finalGame,b.yearID,b.stint,b.teamID,b.lgID,b.G,b.AB,b.R,b.H,\n",
    "b.2B,b.3B,b.HR,b.RBI,b.SB,b.CS,b.BB,b.SO,b.IBB,b.HBP,b.SH,b.SF,b.GIDP,a.GP\n",
    "FROM people p\n",
    "    JOIN batting b\n",
    "    ON p.playerID = b.playerID\n",
    "    JOIN allstarfull a\n",
    "    ON p.playerID = a.playerID\n",
    "    ORDER BY b.HR DESC;\n",
    "\"\"\"\n",
    "cursor = cnx.cursor()\n",
    "cursor.execute(sql)\n",
    "results = cursor.fetchall()"
   ]
  },
  {
   "cell_type": "code",
   "execution_count": 28,
   "metadata": {},
   "outputs": [
    {
     "data": {
      "text/html": [
       "<div>\n",
       "<style scoped>\n",
       "    .dataframe tbody tr th:only-of-type {\n",
       "        vertical-align: middle;\n",
       "    }\n",
       "\n",
       "    .dataframe tbody tr th {\n",
       "        vertical-align: top;\n",
       "    }\n",
       "\n",
       "    .dataframe thead th {\n",
       "        text-align: right;\n",
       "    }\n",
       "</style>\n",
       "<table border=\"1\" class=\"dataframe\">\n",
       "  <thead>\n",
       "    <tr style=\"text-align: right;\">\n",
       "      <th></th>\n",
       "      <th>nameFirst</th>\n",
       "      <th>nameLast</th>\n",
       "      <th>birthYear</th>\n",
       "      <th>birthMonth</th>\n",
       "      <th>birthDay</th>\n",
       "      <th>birthCountry</th>\n",
       "      <th>deathYear</th>\n",
       "      <th>deathMonth</th>\n",
       "      <th>deathDay</th>\n",
       "      <th>weight</th>\n",
       "      <th>...</th>\n",
       "      <th>SB</th>\n",
       "      <th>CS</th>\n",
       "      <th>BB</th>\n",
       "      <th>SO</th>\n",
       "      <th>IBB</th>\n",
       "      <th>HBP</th>\n",
       "      <th>SH</th>\n",
       "      <th>SF</th>\n",
       "      <th>GIDP</th>\n",
       "      <th>GP</th>\n",
       "    </tr>\n",
       "  </thead>\n",
       "  <tbody>\n",
       "    <tr>\n",
       "      <th>0</th>\n",
       "      <td>Barry</td>\n",
       "      <td>Bonds</td>\n",
       "      <td>1964</td>\n",
       "      <td>7</td>\n",
       "      <td>24</td>\n",
       "      <td>USA</td>\n",
       "      <td>NaN</td>\n",
       "      <td>NaN</td>\n",
       "      <td>NaN</td>\n",
       "      <td>185</td>\n",
       "      <td>...</td>\n",
       "      <td>13</td>\n",
       "      <td>3.0</td>\n",
       "      <td>177</td>\n",
       "      <td>93</td>\n",
       "      <td>35.0</td>\n",
       "      <td>9</td>\n",
       "      <td>0</td>\n",
       "      <td>2.0</td>\n",
       "      <td>5.0</td>\n",
       "      <td>1</td>\n",
       "    </tr>\n",
       "    <tr>\n",
       "      <th>1</th>\n",
       "      <td>Barry</td>\n",
       "      <td>Bonds</td>\n",
       "      <td>1964</td>\n",
       "      <td>7</td>\n",
       "      <td>24</td>\n",
       "      <td>USA</td>\n",
       "      <td>NaN</td>\n",
       "      <td>NaN</td>\n",
       "      <td>NaN</td>\n",
       "      <td>185</td>\n",
       "      <td>...</td>\n",
       "      <td>13</td>\n",
       "      <td>3.0</td>\n",
       "      <td>177</td>\n",
       "      <td>93</td>\n",
       "      <td>35.0</td>\n",
       "      <td>9</td>\n",
       "      <td>0</td>\n",
       "      <td>2.0</td>\n",
       "      <td>5.0</td>\n",
       "      <td>1</td>\n",
       "    </tr>\n",
       "    <tr>\n",
       "      <th>2</th>\n",
       "      <td>Barry</td>\n",
       "      <td>Bonds</td>\n",
       "      <td>1964</td>\n",
       "      <td>7</td>\n",
       "      <td>24</td>\n",
       "      <td>USA</td>\n",
       "      <td>NaN</td>\n",
       "      <td>NaN</td>\n",
       "      <td>NaN</td>\n",
       "      <td>185</td>\n",
       "      <td>...</td>\n",
       "      <td>13</td>\n",
       "      <td>3.0</td>\n",
       "      <td>177</td>\n",
       "      <td>93</td>\n",
       "      <td>35.0</td>\n",
       "      <td>9</td>\n",
       "      <td>0</td>\n",
       "      <td>2.0</td>\n",
       "      <td>5.0</td>\n",
       "      <td>1</td>\n",
       "    </tr>\n",
       "    <tr>\n",
       "      <th>3</th>\n",
       "      <td>Barry</td>\n",
       "      <td>Bonds</td>\n",
       "      <td>1964</td>\n",
       "      <td>7</td>\n",
       "      <td>24</td>\n",
       "      <td>USA</td>\n",
       "      <td>NaN</td>\n",
       "      <td>NaN</td>\n",
       "      <td>NaN</td>\n",
       "      <td>185</td>\n",
       "      <td>...</td>\n",
       "      <td>13</td>\n",
       "      <td>3.0</td>\n",
       "      <td>177</td>\n",
       "      <td>93</td>\n",
       "      <td>35.0</td>\n",
       "      <td>9</td>\n",
       "      <td>0</td>\n",
       "      <td>2.0</td>\n",
       "      <td>5.0</td>\n",
       "      <td>1</td>\n",
       "    </tr>\n",
       "    <tr>\n",
       "      <th>4</th>\n",
       "      <td>Barry</td>\n",
       "      <td>Bonds</td>\n",
       "      <td>1964</td>\n",
       "      <td>7</td>\n",
       "      <td>24</td>\n",
       "      <td>USA</td>\n",
       "      <td>NaN</td>\n",
       "      <td>NaN</td>\n",
       "      <td>NaN</td>\n",
       "      <td>185</td>\n",
       "      <td>...</td>\n",
       "      <td>13</td>\n",
       "      <td>3.0</td>\n",
       "      <td>177</td>\n",
       "      <td>93</td>\n",
       "      <td>35.0</td>\n",
       "      <td>9</td>\n",
       "      <td>0</td>\n",
       "      <td>2.0</td>\n",
       "      <td>5.0</td>\n",
       "      <td>1</td>\n",
       "    </tr>\n",
       "  </tbody>\n",
       "</table>\n",
       "<p>5 rows × 36 columns</p>\n",
       "</div>"
      ],
      "text/plain": [
       "  nameFirst nameLast  birthYear  birthMonth  birthDay birthCountry  deathYear  \\\n",
       "0     Barry    Bonds       1964           7        24          USA        NaN   \n",
       "1     Barry    Bonds       1964           7        24          USA        NaN   \n",
       "2     Barry    Bonds       1964           7        24          USA        NaN   \n",
       "3     Barry    Bonds       1964           7        24          USA        NaN   \n",
       "4     Barry    Bonds       1964           7        24          USA        NaN   \n",
       "\n",
       "   deathMonth  deathDay  weight  ...  SB   CS   BB  SO   IBB  HBP SH   SF  \\\n",
       "0         NaN       NaN     185  ...  13  3.0  177  93  35.0    9  0  2.0   \n",
       "1         NaN       NaN     185  ...  13  3.0  177  93  35.0    9  0  2.0   \n",
       "2         NaN       NaN     185  ...  13  3.0  177  93  35.0    9  0  2.0   \n",
       "3         NaN       NaN     185  ...  13  3.0  177  93  35.0    9  0  2.0   \n",
       "4         NaN       NaN     185  ...  13  3.0  177  93  35.0    9  0  2.0   \n",
       "\n",
       "   GIDP  GP  \n",
       "0   5.0   1  \n",
       "1   5.0   1  \n",
       "2   5.0   1  \n",
       "3   5.0   1  \n",
       "4   5.0   1  \n",
       "\n",
       "[5 rows x 36 columns]"
      ]
     },
     "execution_count": 28,
     "metadata": {},
     "output_type": "execute_result"
    }
   ],
   "source": [
    "import pandas as pd\n",
    "\n",
    "df = pd.DataFrame(results, columns = [\"nameFirst\",\"nameLast\",\"birthYear\",\"birthMonth\",\"birthDay\",\"birthCountry\",\"deathYear\",\n",
    "\"deathMonth\",\"deathDay\",\"weight\",\"height\",\"bats\",\"throws\",\"finalGame\",\"yearID\",\"stint\",\"teamID\",\"lgID\",\"G\",\"AB\",\"R\",\"H\",\"2B\",\n",
    "                                      \"3B\",\"HR\",\"RBI\",\"SB\",\"CS\",\"BB\",\"SO\",\"IBB\",\"HBP\", \"SH\",\"SF\",\"GIDP\",\"GP\"])\n",
    "df.head()\n"
   ]
  },
  {
   "cell_type": "code",
   "execution_count": 29,
   "metadata": {},
   "outputs": [
    {
     "data": {
      "text/html": [
       "<div>\n",
       "<style scoped>\n",
       "    .dataframe tbody tr th:only-of-type {\n",
       "        vertical-align: middle;\n",
       "    }\n",
       "\n",
       "    .dataframe tbody tr th {\n",
       "        vertical-align: top;\n",
       "    }\n",
       "\n",
       "    .dataframe thead th {\n",
       "        text-align: right;\n",
       "    }\n",
       "</style>\n",
       "<table border=\"1\" class=\"dataframe\">\n",
       "  <thead>\n",
       "    <tr style=\"text-align: right;\">\n",
       "      <th></th>\n",
       "      <th>nameFirst</th>\n",
       "      <th>nameLast</th>\n",
       "      <th>birthYear</th>\n",
       "      <th>birthMonth</th>\n",
       "      <th>birthDay</th>\n",
       "      <th>birthCountry</th>\n",
       "      <th>deathYear</th>\n",
       "      <th>deathMonth</th>\n",
       "      <th>deathDay</th>\n",
       "      <th>weight</th>\n",
       "      <th>...</th>\n",
       "      <th>SB</th>\n",
       "      <th>CS</th>\n",
       "      <th>BB</th>\n",
       "      <th>SO</th>\n",
       "      <th>IBB</th>\n",
       "      <th>HBP</th>\n",
       "      <th>SH</th>\n",
       "      <th>SF</th>\n",
       "      <th>GIDP</th>\n",
       "      <th>GP</th>\n",
       "    </tr>\n",
       "  </thead>\n",
       "  <tbody>\n",
       "    <tr>\n",
       "      <th>59</th>\n",
       "      <td>Roger</td>\n",
       "      <td>Maris</td>\n",
       "      <td>1934</td>\n",
       "      <td>9</td>\n",
       "      <td>10</td>\n",
       "      <td>USA</td>\n",
       "      <td>1985.0</td>\n",
       "      <td>12.0</td>\n",
       "      <td>14.0</td>\n",
       "      <td>197</td>\n",
       "      <td>...</td>\n",
       "      <td>0</td>\n",
       "      <td>0.0</td>\n",
       "      <td>94</td>\n",
       "      <td>67</td>\n",
       "      <td>0.0</td>\n",
       "      <td>7</td>\n",
       "      <td>0</td>\n",
       "      <td>7.0</td>\n",
       "      <td>16.0</td>\n",
       "      <td>1</td>\n",
       "    </tr>\n",
       "    <tr>\n",
       "      <th>66</th>\n",
       "      <td>Babe</td>\n",
       "      <td>Ruth</td>\n",
       "      <td>1895</td>\n",
       "      <td>2</td>\n",
       "      <td>6</td>\n",
       "      <td>USA</td>\n",
       "      <td>1948.0</td>\n",
       "      <td>8.0</td>\n",
       "      <td>16.0</td>\n",
       "      <td>215</td>\n",
       "      <td>...</td>\n",
       "      <td>7</td>\n",
       "      <td>6.0</td>\n",
       "      <td>137</td>\n",
       "      <td>89</td>\n",
       "      <td>NaN</td>\n",
       "      <td>0</td>\n",
       "      <td>14</td>\n",
       "      <td>NaN</td>\n",
       "      <td>NaN</td>\n",
       "      <td>1</td>\n",
       "    </tr>\n",
       "    <tr>\n",
       "      <th>74</th>\n",
       "      <td>Jimmie</td>\n",
       "      <td>Foxx</td>\n",
       "      <td>1907</td>\n",
       "      <td>10</td>\n",
       "      <td>22</td>\n",
       "      <td>USA</td>\n",
       "      <td>1967.0</td>\n",
       "      <td>7.0</td>\n",
       "      <td>21.0</td>\n",
       "      <td>195</td>\n",
       "      <td>...</td>\n",
       "      <td>3</td>\n",
       "      <td>7.0</td>\n",
       "      <td>116</td>\n",
       "      <td>96</td>\n",
       "      <td>NaN</td>\n",
       "      <td>0</td>\n",
       "      <td>0</td>\n",
       "      <td>NaN</td>\n",
       "      <td>NaN</td>\n",
       "      <td>0</td>\n",
       "    </tr>\n",
       "    <tr>\n",
       "      <th>79</th>\n",
       "      <td>Hank</td>\n",
       "      <td>Greenberg</td>\n",
       "      <td>1911</td>\n",
       "      <td>1</td>\n",
       "      <td>1</td>\n",
       "      <td>USA</td>\n",
       "      <td>1986.0</td>\n",
       "      <td>9.0</td>\n",
       "      <td>4.0</td>\n",
       "      <td>210</td>\n",
       "      <td>...</td>\n",
       "      <td>7</td>\n",
       "      <td>5.0</td>\n",
       "      <td>119</td>\n",
       "      <td>92</td>\n",
       "      <td>NaN</td>\n",
       "      <td>3</td>\n",
       "      <td>3</td>\n",
       "      <td>NaN</td>\n",
       "      <td>NaN</td>\n",
       "      <td>0</td>\n",
       "    </tr>\n",
       "    <tr>\n",
       "      <th>140</th>\n",
       "      <td>Ralph</td>\n",
       "      <td>Kiner</td>\n",
       "      <td>1922</td>\n",
       "      <td>10</td>\n",
       "      <td>27</td>\n",
       "      <td>USA</td>\n",
       "      <td>2014.0</td>\n",
       "      <td>2.0</td>\n",
       "      <td>6.0</td>\n",
       "      <td>195</td>\n",
       "      <td>...</td>\n",
       "      <td>6</td>\n",
       "      <td>NaN</td>\n",
       "      <td>117</td>\n",
       "      <td>61</td>\n",
       "      <td>NaN</td>\n",
       "      <td>1</td>\n",
       "      <td>0</td>\n",
       "      <td>NaN</td>\n",
       "      <td>10.0</td>\n",
       "      <td>1</td>\n",
       "    </tr>\n",
       "  </tbody>\n",
       "</table>\n",
       "<p>5 rows × 36 columns</p>\n",
       "</div>"
      ],
      "text/plain": [
       "    nameFirst   nameLast  birthYear  birthMonth  birthDay birthCountry  \\\n",
       "59      Roger      Maris       1934           9        10          USA   \n",
       "66       Babe       Ruth       1895           2         6          USA   \n",
       "74     Jimmie       Foxx       1907          10        22          USA   \n",
       "79       Hank  Greenberg       1911           1         1          USA   \n",
       "140     Ralph      Kiner       1922          10        27          USA   \n",
       "\n",
       "     deathYear  deathMonth  deathDay  weight  ...  SB   CS   BB  SO  IBB  HBP  \\\n",
       "59      1985.0        12.0      14.0     197  ...   0  0.0   94  67  0.0    7   \n",
       "66      1948.0         8.0      16.0     215  ...   7  6.0  137  89  NaN    0   \n",
       "74      1967.0         7.0      21.0     195  ...   3  7.0  116  96  NaN    0   \n",
       "79      1986.0         9.0       4.0     210  ...   7  5.0  119  92  NaN    3   \n",
       "140     2014.0         2.0       6.0     195  ...   6  NaN  117  61  NaN    1   \n",
       "\n",
       "     SH   SF  GIDP  GP  \n",
       "59    0  7.0  16.0   1  \n",
       "66   14  NaN   NaN   1  \n",
       "74    0  NaN   NaN   0  \n",
       "79    3  NaN   NaN   0  \n",
       "140   0  NaN  10.0   1  \n",
       "\n",
       "[5 rows x 36 columns]"
      ]
     },
     "execution_count": 29,
     "metadata": {},
     "output_type": "execute_result"
    }
   ],
   "source": [
    "# Drop Rows with any missing value in selected columns\n",
    "df = df.dropna(how='any', subset=['birthYear','birthMonth','birthDay','deathYear','deathMonth','deathDay'])\n",
    "df = df.drop_duplicates(['nameFirst', 'nameLast'])\n",
    "df.head()"
   ]
  },
  {
   "cell_type": "code",
   "execution_count": 30,
   "metadata": {},
   "outputs": [
    {
     "data": {
      "text/plain": [
       "59    1934-09-10\n",
       "66    1895-02-06\n",
       "74    1907-10-22\n",
       "79    1911-01-01\n",
       "140   1922-10-27\n",
       "Name: birthDays, dtype: datetime64[ns]"
      ]
     },
     "execution_count": 30,
     "metadata": {},
     "output_type": "execute_result"
    }
   ],
   "source": [
    "df['birthDays'] = pd.to_datetime(dict(year=df.birthYear, month=df.birthMonth, day=df.birthDay))\n",
    "df['birthDays'].head()"
   ]
  },
  {
   "cell_type": "code",
   "execution_count": 31,
   "metadata": {},
   "outputs": [
    {
     "data": {
      "text/plain": [
       "59    1985-12-14\n",
       "66    1948-08-16\n",
       "74    1967-07-21\n",
       "79    1986-09-04\n",
       "140   2014-02-06\n",
       "Name: deathDays, dtype: datetime64[ns]"
      ]
     },
     "execution_count": 31,
     "metadata": {},
     "output_type": "execute_result"
    }
   ],
   "source": [
    "df['deathDays'] = pd.to_datetime(dict(year=df.deathYear, month=df.deathMonth, day=df.deathDay))\n",
    "df['deathDays'].head() # For datetime64[ns] types, NaT represents missing values."
   ]
  },
  {
   "cell_type": "code",
   "execution_count": 32,
   "metadata": {},
   "outputs": [
    {
     "data": {
      "text/html": [
       "<div>\n",
       "<style scoped>\n",
       "    .dataframe tbody tr th:only-of-type {\n",
       "        vertical-align: middle;\n",
       "    }\n",
       "\n",
       "    .dataframe tbody tr th {\n",
       "        vertical-align: top;\n",
       "    }\n",
       "\n",
       "    .dataframe thead th {\n",
       "        text-align: right;\n",
       "    }\n",
       "</style>\n",
       "<table border=\"1\" class=\"dataframe\">\n",
       "  <thead>\n",
       "    <tr style=\"text-align: right;\">\n",
       "      <th></th>\n",
       "      <th>nameFirst</th>\n",
       "      <th>nameLast</th>\n",
       "      <th>birthDays</th>\n",
       "      <th>deathDays</th>\n",
       "      <th>lifeSpan</th>\n",
       "    </tr>\n",
       "  </thead>\n",
       "  <tbody>\n",
       "    <tr>\n",
       "      <th>59</th>\n",
       "      <td>Roger</td>\n",
       "      <td>Maris</td>\n",
       "      <td>1934-09-10</td>\n",
       "      <td>1985-12-14</td>\n",
       "      <td>51.0</td>\n",
       "    </tr>\n",
       "    <tr>\n",
       "      <th>66</th>\n",
       "      <td>Babe</td>\n",
       "      <td>Ruth</td>\n",
       "      <td>1895-02-06</td>\n",
       "      <td>1948-08-16</td>\n",
       "      <td>53.0</td>\n",
       "    </tr>\n",
       "    <tr>\n",
       "      <th>74</th>\n",
       "      <td>Jimmie</td>\n",
       "      <td>Foxx</td>\n",
       "      <td>1907-10-22</td>\n",
       "      <td>1967-07-21</td>\n",
       "      <td>59.0</td>\n",
       "    </tr>\n",
       "    <tr>\n",
       "      <th>79</th>\n",
       "      <td>Hank</td>\n",
       "      <td>Greenberg</td>\n",
       "      <td>1911-01-01</td>\n",
       "      <td>1986-09-04</td>\n",
       "      <td>75.0</td>\n",
       "    </tr>\n",
       "    <tr>\n",
       "      <th>140</th>\n",
       "      <td>Ralph</td>\n",
       "      <td>Kiner</td>\n",
       "      <td>1922-10-27</td>\n",
       "      <td>2014-02-06</td>\n",
       "      <td>91.0</td>\n",
       "    </tr>\n",
       "    <tr>\n",
       "      <th>...</th>\n",
       "      <td>...</td>\n",
       "      <td>...</td>\n",
       "      <td>...</td>\n",
       "      <td>...</td>\n",
       "      <td>...</td>\n",
       "    </tr>\n",
       "    <tr>\n",
       "      <th>71414</th>\n",
       "      <td>Donnie</td>\n",
       "      <td>Moore</td>\n",
       "      <td>1954-02-13</td>\n",
       "      <td>1989-07-18</td>\n",
       "      <td>35.0</td>\n",
       "    </tr>\n",
       "    <tr>\n",
       "      <th>71905</th>\n",
       "      <td>Dave</td>\n",
       "      <td>Smith</td>\n",
       "      <td>1955-01-21</td>\n",
       "      <td>2008-12-17</td>\n",
       "      <td>53.0</td>\n",
       "    </tr>\n",
       "    <tr>\n",
       "      <th>74318</th>\n",
       "      <td>Rod</td>\n",
       "      <td>Beck</td>\n",
       "      <td>1968-08-03</td>\n",
       "      <td>2007-06-23</td>\n",
       "      <td>38.0</td>\n",
       "    </tr>\n",
       "    <tr>\n",
       "      <th>76481</th>\n",
       "      <td>Jose</td>\n",
       "      <td>Lima</td>\n",
       "      <td>1972-09-30</td>\n",
       "      <td>2010-05-23</td>\n",
       "      <td>37.0</td>\n",
       "    </tr>\n",
       "    <tr>\n",
       "      <th>77392</th>\n",
       "      <td>Roy</td>\n",
       "      <td>Halladay</td>\n",
       "      <td>1977-05-14</td>\n",
       "      <td>2017-11-07</td>\n",
       "      <td>40.0</td>\n",
       "    </tr>\n",
       "  </tbody>\n",
       "</table>\n",
       "<p>572 rows × 5 columns</p>\n",
       "</div>"
      ],
      "text/plain": [
       "      nameFirst   nameLast  birthDays  deathDays  lifeSpan\n",
       "59        Roger      Maris 1934-09-10 1985-12-14      51.0\n",
       "66         Babe       Ruth 1895-02-06 1948-08-16      53.0\n",
       "74       Jimmie       Foxx 1907-10-22 1967-07-21      59.0\n",
       "79         Hank  Greenberg 1911-01-01 1986-09-04      75.0\n",
       "140       Ralph      Kiner 1922-10-27 2014-02-06      91.0\n",
       "...         ...        ...        ...        ...       ...\n",
       "71414    Donnie      Moore 1954-02-13 1989-07-18      35.0\n",
       "71905      Dave      Smith 1955-01-21 2008-12-17      53.0\n",
       "74318       Rod       Beck 1968-08-03 2007-06-23      38.0\n",
       "76481      Jose       Lima 1972-09-30 2010-05-23      37.0\n",
       "77392       Roy   Halladay 1977-05-14 2017-11-07      40.0\n",
       "\n",
       "[572 rows x 5 columns]"
      ]
     },
     "execution_count": 32,
     "metadata": {},
     "output_type": "execute_result"
    }
   ],
   "source": [
    "df['lifeSpan'] = (df['deathDays'] - df['birthDays']).astype('timedelta64[Y]')\n",
    "df[['nameFirst', 'nameLast', 'birthDays', 'deathDays', 'lifeSpan']]"
   ]
  },
  {
   "cell_type": "code",
   "execution_count": 33,
   "metadata": {},
   "outputs": [],
   "source": [
    "#How many double plays did Albert Pujols ground into in 2016?"
   ]
  },
  {
   "cell_type": "code",
   "execution_count": 34,
   "metadata": {},
   "outputs": [
    {
     "name": "stdout",
     "output_type": "stream",
     "text": [
      "[('Albert', 'Pujols', 24)]\n"
     ]
    }
   ],
   "source": [
    "sql = \"\"\"\n",
    "SELECT p.nameFirst, p.nameLast, b.GIDP\n",
    "FROM People p\n",
    "JOIN Batting b ON b.playerID=p.playerID\n",
    "WHERE b.yearID=2016 AND p.nameFirst=\"Albert\" AND p.nameLast=\"Pujols\";\n",
    "\"\"\"\n",
    "\n",
    "cursor.execute(sql)\n",
    "results = cursor.fetchall()\n",
    "print(results)"
   ]
  },
  {
   "cell_type": "code",
   "execution_count": 35,
   "metadata": {},
   "outputs": [],
   "source": [
    "#PART 2 OF CODE XXXXXXXXXXXXXXXXXXXXXXXXXXXXXXXXXXXXXXXXXXXXXXXXXXXXXXXXXXXXXXXXXXXXXXXXXXXXXXXXXXXXXXXXXXXXXXXXXXXXXXXXXXXXXXX"
   ]
  },
  {
   "cell_type": "code",
   "execution_count": 66,
   "metadata": {},
   "outputs": [
    {
     "name": "stdout",
     "output_type": "stream",
     "text": [
      "os:            Windows-10-10.0.19041-SP0\n",
      "python         3.7.6 (default, Jan  8 2020, 20:23:39) [MSC v.1916 64 bit (AMD64)]\n",
      "openssl:       OpenSSL 1.1.1d  10 Sep 2019\n",
      "TLSv1.2:       _SSLMethod.PROTOCOL_TLSv1_2\n",
      "\n",
      "<mysql.connector.connection.MySQLConnection object at 0x0000026F317ED248>\n",
      "\n"
     ]
    }
   ],
   "source": [
    "import platform\n",
    "import sys\n",
    "import ssl\n",
    "\n",
    "print(\"os:            \" + platform.platform())\n",
    "print(\"python         \" + sys.version)\n",
    "print(\"openssl:       \" + ssl.OPENSSL_VERSION)\n",
    "print(\"TLSv1.2:       \" + str(ssl.PROTOCOL_TLSv1_2))\n",
    "print()\n",
    "\n",
    "# conda install -c anaconda mysql-connector-python\n",
    "\n",
    "import mysql.connector as mysql\n",
    "\n",
    "cnx = mysql.connect(\n",
    "    host=\"mysqllahmansbaseball.mysql.database.azure.com\", # this server will not remain available in the long term\n",
    "    user=\"newuser@mysqllahmansbaseball\",                  # this user name will not remain available in the long term\n",
    "    password=\"Pa$$w0rd\",                                  # this password will not remain available in the long term\n",
    "    port=3306,\n",
    "    ssl_disabled=True,                                    # not usually suitable for production code\n",
    "    database=\"lahmansbaseballdb\")\n",
    "print(cnx)\n",
    "print()\n"
   ]
  },
  {
   "cell_type": "code",
   "execution_count": 67,
   "metadata": {},
   "outputs": [
    {
     "name": "stdout",
     "output_type": "stream",
     "text": [
      "      0      1     2   3   4    5   6   7   8    9   ...  17   18   19   20  \\\n",
      "0  Barry  Bonds  1964   7  24  USA NaN NaN NaN  185  ...  NL  153  476  129   \n",
      "1  Barry  Bonds  1964   7  24  USA NaN NaN NaN  185  ...  NL  153  476  129   \n",
      "2  Barry  Bonds  1964   7  24  USA NaN NaN NaN  185  ...  NL  153  476  129   \n",
      "\n",
      "    21  22 23  24   25  26  \n",
      "0  156  32  2  73  137  13  \n",
      "1  156  32  2  73  137  13  \n",
      "2  156  32  2  73  137  13  \n",
      "\n",
      "[3 rows x 27 columns]\n",
      "\n",
      "\n",
      "  nameFirst nameLast  birthYear  birthMonth  birthDay birthCountry  deathYear  \\\n",
      "0     Barry    Bonds       1964           7        24          USA        NaN   \n",
      "1     Barry    Bonds       1964           7        24          USA        NaN   \n",
      "2     Barry    Bonds       1964           7        24          USA        NaN   \n",
      "\n",
      "   deathMonth  deathDay  weight  ...  lgID    G   AB    R    H  2B 3B  HR  \\\n",
      "0         NaN       NaN     185  ...    NL  153  476  129  156  32  2  73   \n",
      "1         NaN       NaN     185  ...    NL  153  476  129  156  32  2  73   \n",
      "2         NaN       NaN     185  ...    NL  153  476  129  156  32  2  73   \n",
      "\n",
      "   RBI  SB  \n",
      "0  137  13  \n",
      "1  137  13  \n",
      "2  137  13  \n",
      "\n",
      "[3 rows x 27 columns]\n",
      "83887\n"
     ]
    }
   ],
   "source": [
    "cursor = cnx.cursor()\n",
    "\n",
    "sql = \"\"\"\n",
    "SELECT p.nameFirst,p.nameLast,p.birthYear,p.birthMonth,p.birthDay,p.birthCountry,p.deathYear,\n",
    "p.deathMonth,p.deathDay,p.weight,p.height,p.bats,p.throws,p.finalGame,b.yearID,b.stint,b.teamID,b.lgID,b.G,b.AB,b.R,b.H,\n",
    "b.2B,b.3B,b.HR,b.RBI,b.SB\n",
    "FROM people p\n",
    "    JOIN batting b\n",
    "    ON p.playerID = b.playerID\n",
    "    JOIN allstarfull a\n",
    "    ON p.playerID = a.playerID\n",
    "    ORDER BY b.HR DESC;\n",
    "\"\"\"\n",
    "\n",
    "cursor.execute(sql)\n",
    "results = cursor.fetchall()\n",
    "\n",
    "# Convert results to DataFrame\n",
    "import pandas as pd\n",
    "df_age = pd.DataFrame(results)    \n",
    "\n",
    "# Print out first 5 rows\n",
    "print(df_age.head(3))\n",
    "print()\n",
    "print()\n",
    "\n",
    "# Adding column names to dataframe\n",
    "cols = [i[0] for i in cursor.description]\n",
    "df_age.columns = cols    \n",
    "\n",
    "# Print the first 3 rows\n",
    "print(df_age.head(3))                  \n",
    "\n",
    "# Print the length of df_Age\n",
    "print(len(df_age))"
   ]
  },
  {
   "cell_type": "code",
   "execution_count": 68,
   "metadata": {},
   "outputs": [
    {
     "data": {
      "text/plain": [
       "count    83887.000000\n",
       "mean        30.211439\n",
       "std          5.454125\n",
       "min         16.000000\n",
       "25%         26.000000\n",
       "50%         30.000000\n",
       "75%         34.000000\n",
       "max         59.000000\n",
       "Name: Age, dtype: float64"
      ]
     },
     "execution_count": 68,
     "metadata": {},
     "output_type": "execute_result"
    }
   ],
   "source": [
    "df_age['Age'] = df_age['yearID'] - df_age['birthYear']\n",
    "df_age['Age'].describe()"
   ]
  },
  {
   "cell_type": "code",
   "execution_count": 69,
   "metadata": {},
   "outputs": [
    {
     "name": "stdout",
     "output_type": "stream",
     "text": [
      "     0     1   2    3    4     5   6   7    8     9   ...         44   45  \\\n",
      "0  1368  1961  AL  LAA  ANA  None NaN   8  162  82.0  ...   603510.0  111   \n",
      "1  1387  1962  AL  LAA  ANA  None NaN   3  162  81.0  ...  1144063.0   97   \n",
      "2  1407  1963  AL  LAA  ANA  None NaN   9  161  81.0  ...   821015.0   94   \n",
      "\n",
      "    46   47   48   49   50                             51  52    53  \n",
      "0  112  LAA  LAA  LAA  ANA  Los Angeles Angels of Anaheim   Y  None  \n",
      "1   97  LAA  LAA  LAA  ANA  Los Angeles Angels of Anaheim   Y  None  \n",
      "2   94  LAA  LAA  LAA  ANA  Los Angeles Angels of Anaheim   Y  None  \n",
      "\n",
      "[3 rows x 54 columns]\n"
     ]
    }
   ],
   "source": [
    "# Querying Database for all seasons where a team played 50 or more games and is still active today. \n",
    "\n",
    "sql = '''select * from Teams t \n",
    "inner join TeamsFranchises\n",
    "on t.franchID = TeamsFranchises.franchID\n",
    "where t.G >= 50 and TeamsFranchises.active = 'Y';\n",
    "'''\n",
    "\n",
    "cursor.execute(sql)\n",
    "results = cursor.fetchall()\n",
    "\n",
    "# Convert results to DataFrame\n",
    "#import pandas as pd\n",
    "\n",
    "df = pd.DataFrame(results)    \n",
    "\n",
    "# Print out first 5 rows\n",
    "print(df.head(3))  "
   ]
  },
  {
   "cell_type": "code",
   "execution_count": 70,
   "metadata": {},
   "outputs": [
    {
     "name": "stdout",
     "output_type": "stream",
     "text": [
      "['ID', 'yearID', 'lgID', 'teamID', 'franchID', 'divID', 'div_ID', 'teamRank', 'G', 'Ghome', 'W', 'L', 'DivWin', 'WCWin', 'LgWin', 'WSWin', 'R', 'AB', 'H', '2B', '3B', 'HR', 'BB', 'SO', 'SB', 'CS', 'HBP', 'SF', 'RA', 'ER', 'ERA', 'CG', 'SHO', 'SV', 'IPouts', 'HA', 'HRA', 'BBA', 'SOA', 'E', 'DP', 'FP', 'name', 'park', 'attendance', 'BPF', 'PPF', 'teamIDBR', 'teamIDlahman45', 'teamIDretro', 'franchID', 'franchName', 'active', 'NAassoc']\n"
     ]
    }
   ],
   "source": [
    "headers = [i[0] for i in cursor.description]\n",
    "print(headers)"
   ]
  },
  {
   "cell_type": "code",
   "execution_count": 71,
   "metadata": {},
   "outputs": [],
   "source": [
    "#'''\n",
    "# Adding column names to dataframe\n",
    "#df = pd.DataFrame(results, columns =[i[0] for i in cursor.description])\n",
    "#print(df.head())\n",
    "#'''"
   ]
  },
  {
   "cell_type": "code",
   "execution_count": 72,
   "metadata": {},
   "outputs": [
    {
     "name": "stdout",
     "output_type": "stream",
     "text": [
      "     ID  yearID lgID teamID  franchID divID  div_ID  teamRank    G  Ghome  \\\n",
      "0  1368    1961   AL    LAA       ANA  None     NaN         8  162   82.0   \n",
      "1  1387    1962   AL    LAA       ANA  None     NaN         3  162   81.0   \n",
      "2  1407    1963   AL    LAA       ANA  None     NaN         9  161   81.0   \n",
      "\n",
      "   ...  attendance  BPF  PPF teamIDBR teamIDlahman45 teamIDretro  franchID  \\\n",
      "0  ...    603510.0  111  112      LAA            LAA         LAA       ANA   \n",
      "1  ...   1144063.0   97   97      LAA            LAA         LAA       ANA   \n",
      "2  ...    821015.0   94   94      LAA            LAA         LAA       ANA   \n",
      "\n",
      "                      franchName  active  NAassoc  \n",
      "0  Los Angeles Angels of Anaheim       Y     None  \n",
      "1  Los Angeles Angels of Anaheim       Y     None  \n",
      "2  Los Angeles Angels of Anaheim       Y     None  \n",
      "\n",
      "[3 rows x 54 columns]\n",
      "2686\n"
     ]
    }
   ],
   "source": [
    "# Adding column names to dataframe\n",
    "cols = [i[0] for i in cursor.description]\n",
    "df.columns = cols    #teams_df\n",
    "\n",
    "# Print the first rows of `teams_df`\n",
    "print(df.head(3))                  #teams_df\n",
    "\n",
    "# Print the length of `teams_df`\n",
    "print(len(df))"
   ]
  },
  {
   "cell_type": "code",
   "execution_count": 73,
   "metadata": {},
   "outputs": [],
   "source": [
    "# Cleaning and Preparing The Data"
   ]
  },
  {
   "cell_type": "code",
   "execution_count": 74,
   "metadata": {
    "scrolled": true
   },
   "outputs": [
    {
     "name": "stdout",
     "output_type": "stream",
     "text": [
      "     ID  yearID teamID  div_ID  teamRank    G   W    R    AB     H  ...    HA  \\\n",
      "0  1368    1961    LAA     NaN         8  162  70  744  5424  1331  ...  1391   \n",
      "1  1387    1962    LAA     NaN         3  162  86  718  5499  1377  ...  1412   \n",
      "2  1407    1963    LAA     NaN         9  161  70  597  5506  1378  ...  1317   \n",
      "\n",
      "   HRA  BBA  SOA    E   DP     FP                     franchName  active  \\\n",
      "0  180  713  973  192  154  0.969  Los Angeles Angels of Anaheim       Y   \n",
      "1  118  616  858  175  153  0.972  Los Angeles Angels of Anaheim       Y   \n",
      "2  120  578  889  163  155  0.974  Los Angeles Angels of Anaheim       Y   \n",
      "\n",
      "   NAassoc  \n",
      "0     None  \n",
      "1     None  \n",
      "2     None  \n",
      "\n",
      "[3 rows x 35 columns]\n"
     ]
    }
   ],
   "source": [
    "# Dropping your unnecesary column variables.\n",
    "\n",
    "drop_cols = ['lgID','franchID','divID','Ghome','L','DivWin','WCWin','LgWin','WSWin','SF','name','park','attendance',\n",
    "             'BPF','PPF','teamIDBR','teamIDlahman45','teamIDretro','franchID']\n",
    "\n",
    "#df = teams_df.drop(drop_cols, axis=1)\n",
    "df = df.drop(drop_cols, axis=1)\n",
    "# Print out first rows of `df`\n",
    "print(df.head(3))\n"
   ]
  },
  {
   "cell_type": "code",
   "execution_count": 75,
   "metadata": {},
   "outputs": [],
   "source": [
    "#['ID', 'yearID','teamID', 'div_ID', 'teamRank', 'G', 'W', \n",
    "#  'R', 'AB', 'H', '2B', '3B', 'HR', 'BB', 'SO', 'SB', 'CS', 'HBP', 'RA', 'ER', 'ERA', 'CG', 'SHO', \n",
    "# 'SV', 'IPouts', 'HA', 'HRA', 'BBA', 'SOA', 'E', 'DP', 'FP','franchName', 'active', 'NAassoc']"
   ]
  },
  {
   "cell_type": "code",
   "execution_count": 76,
   "metadata": {},
   "outputs": [
    {
     "name": "stdout",
     "output_type": "stream",
     "text": [
      "[0, 0, 0, 1278, 0, 0, 0, 0, 0, 0, 0, 0, 0, 0, 16, 40, 640, 1018, 0, 0, 0, 0, 0, 0, 0, 0, 0, 0, 0, 0, 0, 0, 0, 0, 2398]\n"
     ]
    }
   ],
   "source": [
    "# Print out null values of all columns of `df`\n",
    "print(df.isnull().sum(axis=0).tolist())\n"
   ]
  },
  {
   "cell_type": "code",
   "execution_count": 77,
   "metadata": {},
   "outputs": [
    {
     "name": "stdout",
     "output_type": "stream",
     "text": [
      "[0, 0, 0, 0, 0, 0, 0, 0, 0, 0, 0, 0, 0, 0, 0, 0, 0, 0, 0, 0, 0, 0, 0, 0, 0, 0, 0, 0, 0, 0, 0]\n"
     ]
    }
   ],
   "source": [
    "# Eliminating columns with null values\n",
    "df = df.drop(['div_ID', 'CS', 'HBP', 'NAassoc'], axis=1)\n",
    "\n",
    "# Filling null values\n",
    "df['SO'] = df['SO'].fillna(df['SO'].median())\n",
    "df['SB'] = df['SB'].fillna(df['SB'].median())\n",
    "\n",
    "# Print out null values of all columns of `df`\n",
    "print(df.isnull().sum(axis=0).tolist())"
   ]
  },
  {
   "cell_type": "code",
   "execution_count": 78,
   "metadata": {},
   "outputs": [
    {
     "name": "stdout",
     "output_type": "stream",
     "text": [
      "     ID  yearID teamID  teamRank    G   W    R    AB     H   2B  ...  IPouts  \\\n",
      "0  1368    1961    LAA         8  162  70  744  5424  1331  218  ...    4314   \n",
      "1  1387    1962    LAA         3  162  86  718  5499  1377  232  ...    4398   \n",
      "2  1407    1963    LAA         9  161  70  597  5506  1378  208  ...    4365   \n",
      "\n",
      "     HA  HRA  BBA  SOA    E   DP     FP                     franchName  active  \n",
      "0  1391  180  713  973  192  154  0.969  Los Angeles Angels of Anaheim       Y  \n",
      "1  1412  118  616  858  175  153  0.972  Los Angeles Angels of Anaheim       Y  \n",
      "2  1317  120  578  889  163  155  0.974  Los Angeles Angels of Anaheim       Y  \n",
      "\n",
      "[3 rows x 31 columns]\n",
      "2686\n"
     ]
    }
   ],
   "source": [
    "#df = pd.DataFrame(results, columns = ['nameFirst', 'nameLast','Weight', 'HR', 'W' 'team', 'yearID'])\n",
    "\n",
    "headers = ['ID', 'yearID','teamID', 'teamRank', 'G', 'W', 'R', 'AB', 'H', '2B', '3B', 'HR', 'BB', 'SO', 'SB', 'RA', 'ER', \n",
    "           'ERA', 'CG', 'SHO', 'SV', 'IPouts', 'HA', 'HRA', 'BBA', 'SOA', 'E', 'DP', 'FP','franchName', 'active']\n",
    "\n",
    "df.columns = headers    \n",
    "\n",
    "#Print the first 3 rows of df\n",
    "print(df.head(3))               \n",
    "\n",
    "# Print the length of df\n",
    "print(len(df))\n"
   ]
  },
  {
   "cell_type": "code",
   "execution_count": 79,
   "metadata": {},
   "outputs": [
    {
     "data": {
      "image/png": "[encoded data removed]",
      "text/plain": [
       "<Figure size 432x288 with 1 Axes>"
      ]
     },
     "metadata": {
      "needs_background": "light"
     },
     "output_type": "display_data"
    }
   ],
   "source": [
    "#Exploring and Visualizing data\n",
    "# importing the pyplot module from matplotlib\n",
    "import matplotlib.pyplot as plt\n",
    "\n",
    "# matplotlib plots inline  \n",
    "get_ipython().run_line_magic('matplotlib', 'inline')\n",
    "\n",
    "# Plotting distribution of Home Runs\n",
    "plt.hist(df['3B'])\n",
    "plt.xlabel('Triple B')\n",
    "plt.title('Distribution of Triple B (3B)')\n",
    "\n",
    "plt.show()\n"
   ]
  },
  {
   "cell_type": "code",
   "execution_count": 80,
   "metadata": {},
   "outputs": [
    {
     "data": {
      "image/png": "[encoded data removed]",
      "text/plain": [
       "<Figure size 432x288 with 1 Axes>"
      ]
     },
     "metadata": {
      "needs_background": "light"
     },
     "output_type": "display_data"
    }
   ],
   "source": [
    "# Plotting distribution of Home Runs\n",
    "plt.hist(df_age['Age'])\n",
    "plt.xlabel('Age')\n",
    "plt.title('Age Distibution of Players')\n",
    "\n",
    "plt.show()"
   ]
  },
  {
   "cell_type": "code",
   "execution_count": 81,
   "metadata": {},
   "outputs": [
    {
     "data": {
      "image/png": "[encoded data removed]",
      "text/plain": [
       "<Figure size 432x288 with 1 Axes>"
      ]
     },
     "metadata": {
      "needs_background": "light"
     },
     "output_type": "display_data"
    }
   ],
   "source": [
    "# Plotting distribution of Home Runs\n",
    "plt.hist(df_age['weight'])\n",
    "plt.xlabel('Weight')\n",
    "plt.title('Distribution of Age')\n",
    "\n",
    "plt.show()"
   ]
  },
  {
   "cell_type": "code",
   "execution_count": 82,
   "metadata": {},
   "outputs": [
    {
     "data": {
      "image/png": "[encoded data removed]",
      "text/plain": [
       "<Figure size 432x288 with 1 Axes>"
      ]
     },
     "metadata": {
      "needs_background": "light"
     },
     "output_type": "display_data"
    }
   ],
   "source": [
    "# Plotting scatter graph of Year vs. Wins\n",
    "import matplotlib.pyplot as plt\n",
    "plt.scatter(df['3B'], df['SB'])\n",
    "plt.title('Triple B vs SB')\n",
    "plt.xlabel('3B')\n",
    "plt.ylabel('SB')\n",
    "\n",
    "plt.show()\n"
   ]
  },
  {
   "cell_type": "code",
   "execution_count": 83,
   "metadata": {},
   "outputs": [
    {
     "name": "stdout",
     "output_type": "stream",
     "text": [
      "45.734177215189874\n"
     ]
    }
   ],
   "source": [
    "#Printing out the average Home Runs (HR) per year\n",
    "print(df['3B'].mean())\n"
   ]
  },
  {
   "cell_type": "code",
   "execution_count": 84,
   "metadata": {},
   "outputs": [],
   "source": [
    "# Creating bins for the Weight column\n",
    "def assign_Weight_bins(Weight):\n",
    "    if Weight < 99:\n",
    "        return 1\n",
    "    if Weight >= 100 and Weight <= 159:\n",
    "        return 2\n",
    "    if Weight >= 160 and Weight <= 259:\n",
    "        return 3\n",
    "    if Weight >= 260:\n",
    "        return 4\n",
    "  \n",
    "df_age['Weight_bins'] = df_age['weight'].apply(assign_Weight_bins)"
   ]
  },
  {
   "cell_type": "code",
   "execution_count": 85,
   "metadata": {},
   "outputs": [
    {
     "data": {
      "image/png": "[encoded data removed]",
      "text/plain": [
       "<Figure size 432x288 with 1 Axes>"
      ]
     },
     "metadata": {
      "needs_background": "light"
     },
     "output_type": "display_data"
    }
   ],
   "source": [
    "# Plotting scatter graph of Year vs. Wins\n",
    "plt.scatter(df_age['weight'], df_age['HR'], c=df_age['Weight_bins'])\n",
    "plt.title('Home Runs vs Weight Scatter Plot')\n",
    "plt.xlabel('Weight')\n",
    "plt.ylabel('Home Runs')\n",
    "\n",
    "plt.show()\n"
   ]
  },
  {
   "cell_type": "code",
   "execution_count": 86,
   "metadata": {},
   "outputs": [],
   "source": [
    "# Creating bins for the Weight column\n",
    "def assign_Age_bins(Age):\n",
    "    if Age < 21:\n",
    "        return 1\n",
    "    if Age >= 21 and Age <= 29:\n",
    "        return 2\n",
    "    if Age >= 30 and Age <= 39:\n",
    "        return 3\n",
    "    if Age >= 40:\n",
    "        return 4\n",
    "  \n",
    "df_age['Age_bins'] = df_age['Age'].apply(assign_Age_bins)"
   ]
  },
  {
   "cell_type": "code",
   "execution_count": 87,
   "metadata": {},
   "outputs": [
    {
     "data": {
      "image/png": "[encoded data removed]",
      "text/plain": [
       "<Figure size 432x288 with 1 Axes>"
      ]
     },
     "metadata": {
      "needs_background": "light"
     },
     "output_type": "display_data"
    }
   ],
   "source": [
    "# Plotting scatter graph of Year vs. Wins\n",
    "plt.scatter(df_age['Age'], df_age['HR'], c=df_age['Age_bins'])\n",
    "plt.title('Home Runs vs Age Scatter Plot')\n",
    "plt.xlabel('Age')\n",
    "plt.ylabel('Home Runs')\n",
    "\n",
    "plt.show()\n"
   ]
  },
  {
   "cell_type": "code",
   "execution_count": 88,
   "metadata": {},
   "outputs": [],
   "source": [
    "''' \n",
    "   To create your win labels, you’ll create a function called assign_win_bins which will take in an integer value (wins) \n",
    "   and return an integer of 1-5 depending on the input value.\n",
    "\n",
    "    Create a new column HR_bins by using the apply() method on the Home Run column and passing in the \n",
    "    assign_HR_bins() function.\n",
    "'''\n",
    "\n",
    "# Creating bins for the HR column\n",
    "def assign_HR_bins(HR):\n",
    "    if HR < 50:\n",
    "        return 1\n",
    "    if HR >= 50 and HR <= 79:\n",
    "        return 2\n",
    "    if HR >= 80 and HR <= 109:\n",
    "        return 3\n",
    "    if HR >= 110 and HR <= 139:\n",
    "        return 4\n",
    "    if HR >= 140:\n",
    "        return 5\n",
    "    \n",
    "df['HR_bins'] = df['HR'].apply(assign_HR_bins)"
   ]
  },
  {
   "cell_type": "code",
   "execution_count": 61,
   "metadata": {},
   "outputs": [
    {
     "data": {
      "image/png": "[encoded data removed]",
      "text/plain": [
       "<Figure size 432x288 with 1 Axes>"
      ]
     },
     "metadata": {
      "needs_background": "light"
     },
     "output_type": "display_data"
    }
   ],
   "source": [
    "# Plotting scatter graph of Year vs. Wins\n",
    "plt.scatter(df['yearID'], df['HR'], c=df['HR_bins'])\n",
    "plt.title('Home Runs Scatter Plot')\n",
    "plt.xlabel('Year')\n",
    "plt.ylabel('Home Runs')\n",
    "\n",
    "plt.show()\n",
    "\n"
   ]
  },
  {
   "cell_type": "code",
   "execution_count": 198,
   "metadata": {},
   "outputs": [],
   "source": [
    "# Filter for rows where 'yearID' is greater than 1900\n",
    "df = df[df['yearID'] > 1900]"
   ]
  },
  {
   "cell_type": "code",
   "execution_count": 199,
   "metadata": {},
   "outputs": [
    {
     "name": "stdout",
     "output_type": "stream",
     "text": [
      "{1961: 12942, 1962: 14461, 1963: 12780, 1964: 13124, 1965: 12946, 1966: 12900, 1967: 12210, 1968: 11109, 1969: 15850, 1970: 16880, 1971: 15073, 1972: 13706, 1973: 16376, 1974: 16046, 1975: 16295, 1976: 15492, 1977: 18803, 1978: 17251, 1979: 18713, 1980: 18053, 1981: 11147, 1982: 18110, 1983: 18170, 1984: 17921, 1985: 18216, 1986: 18545, 1987: 19883, 1988: 17380, 1989: 17405, 1990: 17919, 1991: 18127, 1992: 17341, 1993: 20864, 1994: 15752, 1995: 19554, 1996: 22831, 1997: 21604, 1998: 23297, 1999: 24691, 2000: 24971, 2001: 23199, 2002: 22408, 2003: 22978, 2004: 23376, 2005: 22325, 2006: 23599, 2007: 23322, 2008: 22585, 2009: 22419, 2010: 21308, 2011: 20808, 2012: 21017, 2013: 20255, 2014: 19761, 2015: 20647, 2016: 21744, 2017: 22582, 2018: 21630, 2019: 23467, 1901: 11067, 1902: 9901, 1903: 9892, 1904: 9305, 1905: 9639, 1906: 8881, 1907: 8703, 1908: 8422, 1909: 8810, 1910: 9584, 1911: 11164, 1912: 11154, 1913: 9964, 1914: 9408, 1915: 9444, 1916: 8889, 1917: 8948, 1918: 7385, 1919: 8657, 1920: 10762, 1921: 11935, 1922: 12059, 1923: 11874, 1924: 11722, 1925: 12596, 1926: 11443, 1927: 11745, 1928: 11645, 1929: 12747, 1930: 13695, 1931: 11892, 1932: 12116, 1933: 10988, 1934: 12000, 1935: 12026, 1936: 12846, 1937: 12070, 1938: 11969, 1939: 11876, 1940: 11568, 1941: 11168, 1942: 9995, 1943: 9694, 1944: 10353, 1945: 10286, 1946: 9953, 1947: 10827, 1948: 11328, 1949: 11426, 1950: 12013, 1951: 11268, 1952: 10349, 1953: 11426, 1954: 10827, 1955: 11069, 1956: 11031, 1957: 10636, 1958: 10578, 1959: 10853, 1960: 10664}\n",
      "{1961: 2860, 1962: 3242, 1963: 3238, 1964: 3252, 1965: 3246, 1966: 3230, 1967: 3240, 1968: 3250, 1969: 3892, 1970: 3888, 1971: 3876, 1972: 3718, 1973: 3886, 1974: 3890, 1975: 3868, 1976: 3878, 1977: 4206, 1978: 4204, 1979: 4196, 1980: 4210, 1981: 2788, 1982: 4214, 1983: 4218, 1984: 4210, 1985: 4206, 1986: 4206, 1987: 4210, 1988: 4200, 1989: 4212, 1990: 4210, 1991: 4208, 1992: 4212, 1993: 4538, 1994: 3200, 1995: 4034, 1996: 4534, 1997: 4532, 1998: 4864, 1999: 4856, 2000: 4858, 2001: 4858, 2002: 4852, 2003: 4860, 2004: 4856, 2005: 4862, 2006: 4858, 2007: 4862, 2008: 4856, 2009: 4860, 2010: 4860, 2011: 4858, 2012: 4860, 2013: 4862, 2014: 4860, 2015: 4858, 2016: 4856, 2017: 4860, 2018: 4862, 2019: 4858, 1901: 2218, 1902: 2230, 1903: 2228, 1904: 2496, 1905: 2474, 1906: 2454, 1907: 2466, 1908: 2488, 1909: 2482, 1910: 2498, 1911: 2474, 1912: 2464, 1913: 2468, 1914: 2512, 1915: 2490, 1916: 2494, 1917: 2494, 1918: 2032, 1919: 2236, 1920: 2468, 1921: 2458, 1922: 2476, 1923: 2466, 1924: 2462, 1925: 2456, 1926: 2468, 1927: 2472, 1928: 2462, 1929: 2458, 1930: 2468, 1931: 2472, 1932: 2466, 1933: 2452, 1934: 2446, 1935: 2456, 1936: 2476, 1937: 2478, 1938: 2446, 1939: 2462, 1940: 2472, 1941: 2488, 1942: 2448, 1943: 2476, 1944: 2484, 1945: 2460, 1946: 2484, 1947: 2486, 1948: 2474, 1949: 2480, 1950: 2476, 1951: 2478, 1952: 2478, 1953: 2480, 1954: 2474, 1955: 2468, 1956: 2478, 1957: 2470, 1958: 2470, 1959: 2476, 1960: 2472}\n"
     ]
    }
   ],
   "source": [
    "''' Let’s make a graph below that indicates how much scoring there was for each year. You’ll start by creating dictionaries \n",
    "   runs_per_year and games_per_year. Loop through the dataframe using the iterrows() method. Populate the runs_per_year \n",
    "   dictionary with years as keys and how many runs were scored that year as the value. Populate the games_per_year \n",
    "   dictionary with years as keys and how many games were played that year as the value. '''\n",
    "\n",
    "# Create runs per year and games per year dictionaries\n",
    "runs_per_year = {}\n",
    "games_per_year = {}\n",
    "\n",
    "for i, row in df.iterrows():\n",
    "    year = row['yearID']\n",
    "    runs = row['R']\n",
    "    games = row['G']\n",
    "    if year in runs_per_year:\n",
    "        runs_per_year[year] = runs_per_year[year] + runs\n",
    "        games_per_year[year] = games_per_year[year] + games\n",
    "    else:\n",
    "        runs_per_year[year] = runs\n",
    "        games_per_year[year] = games\n",
    "        \n",
    "print(runs_per_year)\n",
    "print(games_per_year)\n",
    "    "
   ]
  },
  {
   "cell_type": "code",
   "execution_count": 200,
   "metadata": {},
   "outputs": [
    {
     "name": "stdout",
     "output_type": "stream",
     "text": [
      "{1961: 4.525174825174825, 1962: 4.460518198642813, 1963: 3.9468807906114884, 1964: 4.035670356703567, 1965: 3.9882932840418976, 1966: 3.9938080495356036, 1967: 3.7685185185185186, 1968: 3.4181538461538463, 1969: 4.07245632065776, 1970: 4.341563786008231, 1971: 3.8888028895768834, 1972: 3.6863905325443787, 1973: 4.214101904271745, 1974: 4.124935732647815, 1975: 4.21277145811789, 1976: 3.99484270242393, 1977: 4.470518307180218, 1978: 4.103472882968601, 1979: 4.459723546234509, 1980: 4.2881235154394295, 1981: 3.998206599713056, 1982: 4.297579496915045, 1983: 4.307728781412992, 1984: 4.256769596199525, 1985: 4.330955777460771, 1986: 4.409177365668093, 1987: 4.722802850356294, 1988: 4.1380952380952385, 1989: 4.132241215574549, 1990: 4.256294536817102, 1991: 4.307747148288973, 1992: 4.1170465337132, 1993: 4.597620096959012, 1994: 4.9225, 1995: 4.847297967278136, 1996: 5.0355094838994265, 1997: 4.766990291262136, 1998: 4.789679276315789, 1999: 5.0846375617792425, 2000: 5.140181144503911, 2001: 4.7754219843557015, 2002: 4.6183017312448476, 2003: 4.72798353909465, 2004: 4.813838550247117, 2005: 4.591731797614151, 2006: 4.857760395224372, 2007: 4.7967914438502675, 2008: 4.650947281713345, 2009: 4.612962962962963, 2010: 4.3843621399176955, 2011: 4.283244133388226, 2012: 4.324485596707819, 2013: 4.1659810777457835, 2014: 4.0660493827160495, 2015: 4.250102923013586, 2016: 4.477759472817134, 2017: 4.646502057613168, 2018: 4.448786507610037, 2019: 4.830588719637711, 1901: 4.989630297565374, 1902: 4.439910313901345, 1903: 4.439856373429085, 1904: 3.7279647435897436, 1905: 3.8961196443007275, 1906: 3.6189894050529747, 1907: 3.5291970802919708, 1908: 3.385048231511254, 1909: 3.54955680902498, 1910: 3.8366693354683745, 1911: 4.512530315278901, 1912: 4.526785714285714, 1913: 4.037277147487845, 1914: 3.745222929936306, 1915: 3.792771084337349, 1916: 3.5641539695268647, 1917: 3.587810745789896, 1918: 3.6343503937007875, 1919: 3.8716457960644006, 1920: 4.360615883306321, 1921: 4.855573637103336, 1922: 4.870355411954765, 1923: 4.815085158150851, 1924: 4.761169780666125, 1925: 5.128664495114006, 1926: 4.636547811993517, 1927: 4.75121359223301, 1928: 4.729894394800975, 1929: 5.185923515052888, 1930: 5.5490275526742305, 1931: 4.810679611650485, 1932: 4.913219789132198, 1933: 4.481239804241436, 1934: 4.905968928863451, 1935: 4.89657980456026, 1936: 5.188206785137318, 1937: 4.870863599677159, 1938: 4.89329517579722, 1939: 4.823720552396425, 1940: 4.679611650485437, 1941: 4.488745980707395, 1942: 4.082924836601308, 1943: 3.9151857835218093, 1944: 4.167874396135265, 1945: 4.18130081300813, 1946: 4.006843800322061, 1947: 4.3551890587288815, 1948: 4.5788197251414715, 1949: 4.607258064516129, 1950: 4.851777059773829, 1951: 4.547215496368039, 1952: 4.17635189669088, 1953: 4.607258064516129, 1954: 4.376313662085691, 1955: 4.485008103727715, 1956: 4.451573849878935, 1957: 4.306072874493927, 1958: 4.282591093117409, 1959: 4.383279483037157, 1960: 4.313915857605178}\n"
     ]
    }
   ],
   "source": [
    "''' Next, create a dictionary called mlb_runs_per_game. Iterate through the games_per_year dictionary with the items() method. \n",
    "    Populate the mlb_runs_per_game dictionary with years as keys and the number of runs scored per game, league wide, as the \n",
    "    value.'''\n",
    "\n",
    "# Create MLB runs per game (per year) dictionary\n",
    "mlb_runs_per_game = {}\n",
    "for k, v in games_per_year.items():\n",
    "    year = k\n",
    "    games = v\n",
    "    runs = runs_per_year[year]\n",
    "    mlb_runs_per_game[year] = runs / games\n",
    "    \n",
    "print(mlb_runs_per_game)\n"
   ]
  },
  {
   "cell_type": "code",
   "execution_count": 201,
   "metadata": {},
   "outputs": [
    {
     "data": {
      "image/png": "[encoded data removed]",
      "text/plain": [
       "<Figure size 432x288 with 1 Axes>"
      ]
     },
     "metadata": {
      "needs_background": "light"
     },
     "output_type": "display_data"
    }
   ],
   "source": [
    "# Create lists from mlb_runs_per_game dictionary\n",
    "lists = sorted(mlb_runs_per_game.items())\n",
    "x, y = zip(*lists)\n",
    "\n",
    "# Create line plot of Year vs. MLB runs per Game\n",
    "plt.plot(x, y)\n",
    "plt.title('MLB Yearly Runs per Game')\n",
    "plt.xlabel('Year')\n",
    "plt.ylabel('MLB Runs per Game')\n",
    "\n",
    "plt.show()\n"
   ]
  },
  {
   "cell_type": "code",
   "execution_count": 202,
   "metadata": {},
   "outputs": [
    {
     "name": "stdout",
     "output_type": "stream",
     "text": [
      "     ID  yearID teamID  teamRank    G   W    R    AB     H   2B  ...  HR_bins  \\\n",
      "0  1368    1961    LAA         8  162  70  744  5424  1331  218  ...        5   \n",
      "1  1387    1962    LAA         3  162  86  718  5499  1377  232  ...        4   \n",
      "2  1407    1963    LAA         9  161  70  597  5506  1378  208  ...        3   \n",
      "\n",
      "   year_label  era_1  era_2  era_3  era_4  era_5  era_6  era_7  era_8  \n",
      "0           4      0      0      0      1      0      0      0      0  \n",
      "1           4      0      0      0      1      0      0      0      0  \n",
      "2           5      0      0      0      0      1      0      0      0  \n",
      "\n",
      "[3 rows x 41 columns]\n"
     ]
    }
   ],
   "source": [
    "#Adding New Features\n",
    "#Adding New Features\n",
    "#xxxxxxxxxxxxxxxxxxxxxxxxxxxxxxxxxxxxxxxxxxxxxxxxxxxxxxxxxxxxxxxxxxxxx\n",
    "\n",
    "'''Now that you have a better idea of scoring trends, you can create new variables that indicate a specific era that each row \n",
    "   of data falls in based on the yearID. You’ll follow the same process as you did above when you created the win_bins column.\n",
    "\n",
    "   This time however, you will create dummy columns; a new column for each era. You can use the get_dummies() method for this.\n",
    "'''\n",
    "   \n",
    "#Creating \"year_label\" column, which will give your algorithm information about how certain years are related \n",
    "# (Dead ball eras, Live ball/Steroid Eras)\n",
    "\n",
    "def assign_label(year):\n",
    "    if year < 1920:\n",
    "        return 1\n",
    "    elif year >= 1920 and year <= 1941:\n",
    "        return 2\n",
    "    elif year >= 1942 and year <= 1945:\n",
    "        return 3\n",
    "    elif year >= 1946 and year <= 1962:\n",
    "        return 4\n",
    "    elif year >= 1963 and year <= 1976:\n",
    "        return 5\n",
    "    elif year >= 1977 and year <= 1992:\n",
    "        return 6\n",
    "    elif year >= 1993 and year <= 2009:\n",
    "        return 7\n",
    "    elif year >= 2010:\n",
    "        return 8\n",
    "        \n",
    "# Add `year_label` column to `df`    \n",
    "df['year_label'] = df['yearID'].apply(assign_label)\n",
    "\n",
    "dummy_df = pd.get_dummies(df['year_label'], prefix='era')\n",
    "\n",
    "# Concatenate `df` and `dummy_df`\n",
    "df = pd.concat([df, dummy_df], axis=1)\n",
    "\n",
    "print(df.head(3))"
   ]
  },
  {
   "cell_type": "code",
   "execution_count": 203,
   "metadata": {},
   "outputs": [],
   "source": [
    "#xxxxxxxxxxxxxxxxxxxxxxxxxxxxxxxxxxxxxxxxxxxxxxxxxxxxxxxxxxxxxxxxxxxxxxxxxx\n",
    "'''Since you already did the work to determine MLB runs per game for each year, add that data to the data set'''\n",
    "\n",
    "# Create column for MLB runs per game from the mlb_runs_per_game dictionary\n",
    "def assign_mlb_rpg(year):\n",
    "    return mlb_runs_per_game[year]\n",
    "\n",
    "df['mlb_rpg'] = df['yearID'].apply(assign_mlb_rpg)\n"
   ]
  },
  {
   "cell_type": "code",
   "execution_count": 204,
   "metadata": {},
   "outputs": [],
   "source": [
    "#xxxxxxxxxxxxxxxxxxxxxxxxxxxxxxxxxxxxxxxxxxxxxxxxxxxxxxxxxxxxxxxxxxxxxxxxxxxx\n",
    "'''Now you’ll convert the years into decades by creating dummy columns for each decade. Then you can drop the columns that \n",
    "   you don’t need anymore.\n",
    "'''\n",
    "\n",
    "# Convert years into decade bins and creating dummy variables\n",
    "def assign_decade(year):\n",
    "    if year < 1920:\n",
    "        return 1910\n",
    "    elif year >= 1920 and year <= 1929:\n",
    "        return 1920\n",
    "    elif year >= 1930 and year <= 1939:\n",
    "        return 1930\n",
    "    elif year >= 1940 and year <= 1949:\n",
    "        return 1940\n",
    "    elif year >= 1950 and year <= 1959:\n",
    "        return 1950\n",
    "    elif year >= 1960 and year <= 1969:\n",
    "        return 1960\n",
    "    elif year >= 1970 and year <= 1979:\n",
    "        return 1970\n",
    "    elif year >= 1980 and year <= 1989:\n",
    "        return 1980\n",
    "    elif year >= 1990 and year <= 1999:\n",
    "        return 1990\n",
    "    elif year >= 2000 and year <= 2009:\n",
    "        return 2000\n",
    "    elif year >= 2010:\n",
    "        return 2010\n",
    "    \n",
    "df['decade_label'] = df['yearID'].apply(assign_decade)\n",
    "decade_df = pd.get_dummies(df['decade_label'], prefix='decade')\n",
    "df = pd.concat([df, decade_df], axis=1)\n",
    "\n",
    "# Drop unnecessary columns\n",
    "df = df.drop(['yearID','year_label','decade_label'], axis=1)"
   ]
  },
  {
   "cell_type": "code",
   "execution_count": 205,
   "metadata": {},
   "outputs": [],
   "source": [
    "#xxxxxxxxxxxxxxxxxxxxxxxxxxxxxxxxxxxxxxxxxxxxxxxxxxxxxxxxxxxxxxxxxxxxx\n",
    "'''The bottom line in the game of baseball is how many runs you score and how many runs you allow. You can significantly \n",
    "   increase the accuracy of your model by creating columns which are ratios of other columns of data. Runs per game and \n",
    "   runs allowed per game will be great features to add to our data set.\n",
    "\n",
    "   Pandas makes this very simple as you create a new column by dividing the R column by the G column to create the \n",
    "   R_per_game column.\n",
    "'''\n",
    "# Create new features for Runs per Game and Runs Allowed per Game\n",
    "df['R_per_game'] = df['R'] / df['G']\n",
    "df['RA_per_game'] = df['RA'] / df['G']\n"
   ]
  },
  {
   "cell_type": "code",
   "execution_count": 206,
   "metadata": {},
   "outputs": [
    {
     "data": {
      "image/png": "[encoded data removed]",
      "text/plain": [
       "<Figure size 864x432 with 2 Axes>"
      ]
     },
     "metadata": {
      "needs_background": "light"
     },
     "output_type": "display_data"
    }
   ],
   "source": [
    "#xxxxxxxxxxxxxxxxxxxxxxxxxxxxxxxxxxxxxxxxxxxxxxxxxxxxxxxxxxxxxxxxxxxxxxxx\n",
    "'''Now look at how each of the two new variables relate to the target wins column by making a couple scatter graphs. \n",
    "   Plot the runs per game on the x-axis of one graph and runs allowed per game on the x-axis of the other. Plot the W column \n",
    "   on each y-axis.\n",
    "'''\n",
    "\n",
    "\n",
    "# Create scatter plots for runs per game vs. wins and runs allowed per game vs. wins\n",
    "fig = plt.figure(figsize=(12, 6))\n",
    "\n",
    "ax1 = fig.add_subplot(1,2,1)\n",
    "ax2 = fig.add_subplot(1,2,2)\n",
    "\n",
    "ax1.scatter(df['R_per_game'], df['W'], c='blue')\n",
    "ax1.set_title('Runs per Game vs. Wins')\n",
    "ax1.set_ylabel('Wins')\n",
    "ax1.set_xlabel('Runs per Game')\n",
    "\n",
    "ax2.scatter(df['RA_per_game'], df['W'], c='red')\n",
    "ax2.set_title('Runs Allowed per Game vs. Wins')\n",
    "ax2.set_xlabel('Runs Allowed per Game')\n",
    "\n",
    "plt.show()"
   ]
  },
  {
   "cell_type": "code",
   "execution_count": 207,
   "metadata": {},
   "outputs": [
    {
     "data": {
      "text/plain": [
       "ID             0.143726\n",
       "teamRank      -0.827837\n",
       "G              0.341866\n",
       "W              1.000000\n",
       "R              0.597337\n",
       "AB             0.369080\n",
       "H              0.468780\n",
       "2B             0.329622\n",
       "3B             0.029655\n",
       "HR             0.339455\n",
       "BB             0.415756\n",
       "SO             0.130282\n",
       "SB             0.114635\n",
       "RA            -0.373625\n",
       "ER            -0.244374\n",
       "ERA           -0.388871\n",
       "CG            -0.052559\n",
       "SHO            0.440667\n",
       "SV             0.393287\n",
       "IPouts         0.408648\n",
       "HA            -0.159099\n",
       "HRA            0.064525\n",
       "BBA           -0.148393\n",
       "SOA            0.301475\n",
       "E             -0.265635\n",
       "DP             0.107164\n",
       "FP             0.309362\n",
       "HR_bins        0.306326\n",
       "era_1         -0.118461\n",
       "era_2         -0.052262\n",
       "era_3         -0.022104\n",
       "era_4         -0.023090\n",
       "era_5          0.063559\n",
       "era_6          0.028758\n",
       "era_7          0.030439\n",
       "era_8          0.073059\n",
       "mlb_rpg        0.010268\n",
       "decade_1910   -0.118461\n",
       "decade_1920   -0.032122\n",
       "decade_1930   -0.036669\n",
       "decade_1940   -0.029728\n",
       "decade_1950   -0.025181\n",
       "decade_1960    0.045744\n",
       "decade_1970    0.052812\n",
       "decade_1980   -0.003722\n",
       "decade_1990   -0.016384\n",
       "decade_2000    0.072158\n",
       "decade_2010    0.073059\n",
       "R_per_game     0.507027\n",
       "RA_per_game   -0.525758\n",
       "Name: W, dtype: float64"
      ]
     },
     "execution_count": 207,
     "metadata": {},
     "output_type": "execute_result"
    }
   ],
   "source": [
    "#xxxxxxxxxxxxxxxxxxxxxxxxxxxxxxxxxxxxxxxxxxxxxxxxxxxxxxxxxxxxxxxxxxxxxxxxxxxxxxxxxxxxxxx\n",
    "'''Before getting into any machine learning models, it can be useful to see how each of the variables is correlated with the \n",
    "   target variable. Pandas makes this easy with the corr() method.\n",
    "'''\n",
    "\n",
    "df.corr()['W']"
   ]
  },
  {
   "cell_type": "code",
   "execution_count": 208,
   "metadata": {},
   "outputs": [
    {
     "name": "stdout",
     "output_type": "stream",
     "text": [
      "     ID teamID  teamRank    G   W    R    AB     H   2B  3B  ...  decade_1940  \\\n",
      "0  1368    LAA         8  162  70  744  5424  1331  218  22  ...            0   \n",
      "1  1387    LAA         3  162  86  718  5499  1377  232  35  ...            0   \n",
      "2  1407    LAA         9  161  70  597  5506  1378  208  38  ...            0   \n",
      "3  1427    LAA         5  162  82  544  5362  1297  186  27  ...            0   \n",
      "4  1440    CAL         7  162  75  527  5354  1279  200  36  ...            0   \n",
      "\n",
      "   decade_1950  decade_1960  decade_1970  decade_1980  decade_1990  \\\n",
      "0            0            1            0            0            0   \n",
      "1            0            1            0            0            0   \n",
      "2            0            1            0            0            0   \n",
      "3            0            1            0            0            0   \n",
      "4            0            1            0            0            0   \n",
      "\n",
      "   decade_2000  decade_2010  R_per_game  RA_per_game  \n",
      "0            0            0    4.592593     4.839506  \n",
      "1            0            0    4.432099     4.358025  \n",
      "2            0            0    3.708075     4.099379  \n",
      "3            0            0    3.358025     3.401235  \n",
      "4            0            0    3.253086     3.512346  \n",
      "\n",
      "[5 rows x 53 columns]\n"
     ]
    }
   ],
   "source": [
    "#xxxxxxxxxxxxxxxxxxxxxxxxxxxxxxxxxxxxxxxxxxxxxxxxxxxxxxxxxxxxxxxxxxxxxx\n",
    "'''Another feature you can add to the dataset are labels derived from a K-means cluster algorithm provided by sklearn. \n",
    "   K-means is a simple clustering algorithm that partitions the data based on the number of k centroids you indicate. \n",
    "   Each data point is assigned to a cluster based on which centroid has the lowest Euclidian distance from the data point.\n",
    "\n",
    "   You can learn more about K-means clustering here.\n",
    "'''\n",
    "\n",
    "#First, create a DataFrame that leaves out the target variable\n",
    "attributes = ['G','R','AB','H','2B','3B','HR','BB','SO','SB','RA','ER','ERA','CG',\n",
    "              'SHO','SV','IPouts','HA','HRA','BBA','SOA','E','DP','FP','era_1','era_2','era_3','era_4','era_5','era_6',\n",
    "              'era_7','era_8','decade_1910','decade_1920','decade_1930','decade_1940','decade_1950','decade_1960',\n",
    "              'decade_1970','decade_1980','decade_1990','decade_2000','decade_2010','R_per_game','RA_per_game','mlb_rpg']\n",
    "\n",
    "data_attributes = df[attributes]\n",
    "\n",
    "# Print the first rows of `df`\n",
    "print(df.head())"
   ]
  },
  {
   "cell_type": "code",
   "execution_count": 209,
   "metadata": {},
   "outputs": [
    {
     "name": "stdout",
     "output_type": "stream",
     "text": [
      "{2: [0.3942871108468793], 3: [0.4008822113617578], 4: [0.26164714470119005], 5: [0.2705333018456156], 6: [0.24955022439836896], 7: [0.24568205062703471], 8: [0.23983744196306467], 9: [0.21755812488297827], 10: [0.2090496393589429]}\n"
     ]
    }
   ],
   "source": [
    "#xxxxxxxxxxxxxxxxxxxxxxxxxxxxxxxxxxxxxxxxxxxxxxxxxxxxxxxxxxxxxxxxx\n",
    "'''One aspect of K-means clustering that you must determine before using the model is how many clusters you want. \n",
    "   You can get a better idea of your ideal number of clusters by using sklearn’s silhouette_score() function. This function \n",
    "   returns the mean silhouette coefficient over all samples. You want a higher silhouette score, and the score decreases as \n",
    "   more clusters are added.\n",
    "'''\n",
    "\n",
    "#Import necessary modules from `sklearn` \n",
    "from sklearn.cluster import KMeans\n",
    "from sklearn import metrics\n",
    "\n",
    "# Create silhouette score dictionary\n",
    "s_score_dict = {}\n",
    "for i in range(2,11):\n",
    "    km = KMeans(n_clusters=i, random_state=1)\n",
    "    l = km.fit_predict(data_attributes)\n",
    "    s_s = metrics.silhouette_score(data_attributes, l)\n",
    "    s_score_dict[i] = [s_s]\n",
    "\n",
    "# Print out `s_score_dict`\n",
    "print(s_score_dict)"
   ]
  },
  {
   "cell_type": "code",
   "execution_count": 210,
   "metadata": {},
   "outputs": [
    {
     "data": {
      "image/png": "[encoded data removed]",
      "text/plain": [
       "<Figure size 432x288 with 1 Axes>"
      ]
     },
     "metadata": {
      "needs_background": "light"
     },
     "output_type": "display_data"
    }
   ],
   "source": [
    "#xxxxxxxxxxxxxxxxxxxxxxxxxxxxxxxxxxxxxxxxxxxxxxxxxxxxxxxxxxx\n",
    "''' Now you can initialize the model. Set your number of clusters to 6 and the random state to 1. Determine the Euclidian \n",
    "    distances for each data point by using the fit_transform() method and then visualize the clusters with a scatter plot.\n",
    "'''\n",
    "\n",
    "# Create K-means model and determine euclidian distances for each data point\n",
    "kmeans_model = KMeans(n_clusters=6, random_state=1)\n",
    "distances = kmeans_model.fit_transform(data_attributes)\n",
    "\n",
    "# Create scatter plot using labels from K-means model as color\n",
    "labels = kmeans_model.labels_\n",
    "\n",
    "plt.scatter(distances[:,0], distances[:,1], c=labels)\n",
    "plt.title('Kmeans Clusters')\n",
    "\n",
    "plt.show()"
   ]
  },
  {
   "cell_type": "code",
   "execution_count": 211,
   "metadata": {},
   "outputs": [
    {
     "name": "stdout",
     "output_type": "stream",
     "text": [
      "     ID teamID  teamRank    G   W    R    AB     H   2B  3B  ...  decade_1950  \\\n",
      "0  1368    LAA         8  162  70  744  5424  1331  218  22  ...            0   \n",
      "1  1387    LAA         3  162  86  718  5499  1377  232  35  ...            0   \n",
      "2  1407    LAA         9  161  70  597  5506  1378  208  38  ...            0   \n",
      "3  1427    LAA         5  162  82  544  5362  1297  186  27  ...            0   \n",
      "4  1440    CAL         7  162  75  527  5354  1279  200  36  ...            0   \n",
      "\n",
      "   decade_1960  decade_1970  decade_1980  decade_1990  decade_2000  \\\n",
      "0            1            0            0            0            0   \n",
      "1            1            0            0            0            0   \n",
      "2            1            0            0            0            0   \n",
      "3            1            0            0            0            0   \n",
      "4            1            0            0            0            0   \n",
      "\n",
      "   decade_2010  R_per_game  RA_per_game  labels  \n",
      "0            0    4.592593     4.839506       2  \n",
      "1            0    4.432099     4.358025       5  \n",
      "2            0    3.708075     4.099379       5  \n",
      "3            0    3.358025     3.401235       5  \n",
      "4            0    3.253086     3.512346       5  \n",
      "\n",
      "[5 rows x 54 columns]\n"
     ]
    }
   ],
   "source": [
    "# xxxxxxxxxxxxxxxxxxxxxxxxxxxxxxxxxxxxxxxxxxxxxxxxxxxxxxxxxxxxxxx\n",
    "'''Now look at how each of the two new variables relate to the target wins column by making a couple scatter graphs. \n",
    "   Plot the runs per game on the x-axis of one graph and runs allowed per game on the x-axis of the other. Plot the W column \n",
    "   on each y-axis.\n",
    "'''\n",
    "\n",
    "#Add labels from K-means model to `df` DataFrame and attributes list\n",
    "df['labels'] = labels\n",
    "attributes.append('labels')\n",
    "\n",
    "# Print the first rows of `df`\n",
    "print(df.head())"
   ]
  },
  {
   "cell_type": "code",
   "execution_count": 212,
   "metadata": {},
   "outputs": [
    {
     "name": "stdout",
     "output_type": "stream",
     "text": [
      "     G    R    AB     H   2B  3B   HR   BB      SO     SB  ...  decade_1970  \\\n",
      "0  162  744  5424  1331  218  22  189  681  1068.0   37.0  ...            0   \n",
      "1  162  718  5499  1377  232  35  137  602   917.0   46.0  ...            0   \n",
      "2  161  597  5506  1378  208  38   95  448   916.0   43.0  ...            0   \n",
      "3  162  544  5362  1297  186  27  102  472   920.0   49.0  ...            0   \n",
      "4  162  527  5354  1279  200  36   92  443   973.0  107.0  ...            0   \n",
      "\n",
      "   decade_1980  decade_1990  decade_2000  decade_2010  R_per_game  \\\n",
      "0            0            0            0            0    4.592593   \n",
      "1            0            0            0            0    4.432099   \n",
      "2            0            0            0            0    3.708075   \n",
      "3            0            0            0            0    3.358025   \n",
      "4            0            0            0            0    3.253086   \n",
      "\n",
      "   RA_per_game   mlb_rpg  labels   W  \n",
      "0     4.839506  4.525175       2  70  \n",
      "1     4.358025  4.460518       5  86  \n",
      "2     4.099379  3.946881       5  70  \n",
      "3     3.401235  4.035670       5  82  \n",
      "4     3.512346  3.988293       5  75  \n",
      "\n",
      "[5 rows x 48 columns]\n"
     ]
    }
   ],
   "source": [
    "'''Before you can build your model, you need to split your data into train and test sets. You do this because if you do decide\n",
    "   to train your model on the same data that you test the model, your model can easily overfit the data: the model will more \n",
    "   memorize the data instead of learning from it, which results in excessively complex models for your data. That also explains \n",
    "   why an overfitted model will perform very poorly when you would try to make predictions with new data.\n",
    "\n",
    "   But don’t worry just yet, there are a number of ways to cross-validate your model.\n",
    "\n",
    "   This time, you will simply take a random sample of 75 percent of our data for the train data set and use the other 25 \n",
    "   percent for your test data set. Create a list numeric_cols with all of the columns you will use in your model. Next, create \n",
    "   a new DataFrame data from the df DataFrame with the columns in the numeric_cols list. Then, also create your train and test \n",
    "   data sets by sampling the DataFrame data.\n",
    "'''\n",
    "\n",
    "# Create new DataFrame using only variables to be included in models\n",
    "numeric_cols = ['G','R','AB','H','2B','3B','HR','BB','SO','SB','RA','ER','ERA','CG','SHO','SV','IPouts','HA','HRA','BBA',\n",
    "                'SOA','E','DP','FP','era_1','era_2','era_3','era_4','era_5','era_6','era_7','era_8','decade_1910',\n",
    "                'decade_1920','decade_1930','decade_1940','decade_1950','decade_1960','decade_1970','decade_1980',\n",
    "                'decade_1990','decade_2000','decade_2010','R_per_game','RA_per_game','mlb_rpg','labels','W']\n",
    "data = df[numeric_cols]\n",
    "print(data.head())\n",
    "\n",
    "# Split data DataFrame into train and test sets\n",
    "train = data.sample(frac=0.75, random_state=1)\n",
    "test = data.loc[~data.index.isin(train.index)]\n",
    "\n",
    "x_train = train[attributes]\n",
    "y_train = train['W']\n",
    "x_test = test[attributes]\n",
    "y_test = test['W']"
   ]
  },
  {
   "cell_type": "code",
   "execution_count": 213,
   "metadata": {},
   "outputs": [
    {
     "name": "stdout",
     "output_type": "stream",
     "text": [
      "2.7911458199973898\n"
     ]
    }
   ],
   "source": [
    "#xxxxxxxxxxxxxxxxxxxxxxxxxxxxxxxxxxxxxxxxxxxxxxxxxxxxxxxxxxxxxxxxxxxxxxxxxx\n",
    "#Selecting Error Metric and Model\n",
    "''' Mean Absolute Error (MAE) is the metric you’ll use to determine how accurate your model is. It measures how close the \n",
    "    predictions are to the eventual outcomes. Specifically, for this data, that means that this error metric will provide you \n",
    "    with the average absolute value that your prediction missed its mark.\n",
    "\n",
    "    This means that if, on average, your predictions miss the target amount by 5 wins, your error metric will be 5.\n",
    "\n",
    "    The first model you will train will be a linear regression model. You can import LinearRegression and mean_absolute_error \n",
    "    from sklearn.linear_model and sklearn.metrics respectively, and then create a model lr. Next, you’ll fit the model, make \n",
    "    predictions and determine mean absolute error of the model.'''\n",
    "\n",
    "# Import `LinearRegression` from `sklearn.linear_model`\n",
    "from sklearn.linear_model import LinearRegression\n",
    "\n",
    "# Import `mean_absolute_error` from `sklearn.metrics`\n",
    "from sklearn.metrics import mean_absolute_error\n",
    "\n",
    "# Create Linear Regression model, fit model, and make predictions\n",
    "lr = LinearRegression(normalize=True)\n",
    "lr.fit(x_train, y_train)\n",
    "predictions = lr.predict(x_test)\n",
    "\n",
    "# Determine mean absolute error\n",
    "mae = mean_absolute_error(y_test, predictions)\n",
    "\n",
    "# Print `mae`\n",
    "print(mae)"
   ]
  },
  {
   "cell_type": "code",
   "execution_count": 214,
   "metadata": {},
   "outputs": [
    {
     "name": "stdout",
     "output_type": "stream",
     "text": [
      "2.901485684895373\n"
     ]
    }
   ],
   "source": [
    "#xxxxxxxxxxxxxxxxxxxxxxxxxxxxxxxxxxxxxxxxxxxxxxxxxxxxxxxxxxxxxxxxxxxxxxxxxxxxx\n",
    "'''If you recall from above, the average number of wins was about 79 wins. On average, the model is off by only 2.687 wins.\n",
    "\n",
    "   Now try a Ridge regression model. Import RidgeCV from sklearn.linear_model and create model rrm. The RidgeCV model allows \n",
    "   you to set the alpha parameter, which is a complexity parameter that controls the amount of shrinkage (read more here). \n",
    "   The model will use cross-validation to deterime which of the alpha parameters you provide is ideal.\n",
    "\n",
    "   Again, fit your model, make predictions and determine the mean absolute error.'''\n",
    "\n",
    "\n",
    "# Import `RidgeCV` from `sklearn.linear_model`\n",
    "from sklearn.linear_model import RidgeCV\n",
    "\n",
    "# Create Ridge Linear Regression model, fit model, and make predictions\n",
    "rrm = RidgeCV(alphas=(0.01, 0.1, 1.0, 10.0), normalize=True)\n",
    "rrm.fit(x_train, y_train)\n",
    "predictions_rrm = rrm.predict(x_test)\n",
    "\n",
    "# Determine mean absolute error\n",
    "mae_rrm = mean_absolute_error(y_test, predictions_rrm)\n",
    "print(mae_rrm)"
   ]
  },
  {
   "cell_type": "code",
   "execution_count": 215,
   "metadata": {},
   "outputs": [
    {
     "data": {
      "text/plain": [
       "'This model performed slightly better, and is off by 2.673 wins, on average.\\n\\n    Sports Analytics & Scikit-Learn\\n    This concludes the first part of this tutorial series in which you have seen how you can use scikit-Learn to analyze sports \\n    data. You imported the data from an SQLite database, cleaned it up, explored aspects of it visually, and engineered several\\n    new features. You learned how to create a K-means clustering model, a couple different Linear Regression models, and how \\n    to test your predictions with the mean absolute error metric.\\n\\n    In the second part, you’ll see how to use classification models to predict which players make it into the MLB Hall of \\n    Fame'"
      ]
     },
     "execution_count": 215,
     "metadata": {},
     "output_type": "execute_result"
    }
   ],
   "source": [
    "#xxxxxxxxxxxxxxxxxxxxxxxxxxxxxxxxxxxxxxxxxxxxxxxxxxxxxxxxxxxxxxxxxxxxxxxxxxxxxxxx\n",
    "'''This model performed slightly better, and is off by 2.673 wins, on average.\n",
    "\n",
    "    Sports Analytics & Scikit-Learn\n",
    "    This concludes the first part of this tutorial series in which you have seen how you can use scikit-Learn to analyze sports \n",
    "    data. You imported the data from an SQLite database, cleaned it up, explored aspects of it visually, and engineered several\n",
    "    new features. You learned how to create a K-means clustering model, a couple different Linear Regression models, and how \n",
    "    to test your predictions with the mean absolute error metric.\n",
    "\n",
    "    In the second part, you’ll see how to use classification models to predict which players make it into the MLB Hall of \n",
    "    Fame'''"
   ]
  },
  {
   "cell_type": "code",
   "execution_count": null,
   "metadata": {},
   "outputs": [],
   "source": []
  }
 ],
 "metadata": {
  "kernelspec": {
   "display_name": "Python 3",
   "language": "python",
   "name": "python3"
  },
  "language_info": {
   "codemirror_mode": {
    "name": "ipython",
    "version": 3
   },
   "file_extension": ".py",
   "mimetype": "text/x-python",
   "name": "python",
   "nbconvert_exporter": "python",
   "pygments_lexer": "ipython3",
   "version": "3.7.6"
  }
 },
 "nbformat": 4,
 "nbformat_minor": 4
}
